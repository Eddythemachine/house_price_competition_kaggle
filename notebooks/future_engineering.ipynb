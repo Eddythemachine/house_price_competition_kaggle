{
 "cells": [
  {
   "cell_type": "markdown",
   "id": "ae5c7cca",
   "metadata": {},
   "source": [
    "# IMPORT LIBS"
   ]
  },
  {
   "cell_type": "code",
   "execution_count": 31,
   "id": "2993f79a",
   "metadata": {},
   "outputs": [],
   "source": [
    "import pandas as pd\n",
    "import numpy as np\n",
    "import matplotlib.pyplot as plt\n",
    "import seaborn as sns"
   ]
  },
  {
   "cell_type": "markdown",
   "id": "62b23f6d",
   "metadata": {},
   "source": [
    "# IMPORT DATASET"
   ]
  },
  {
   "cell_type": "code",
   "execution_count": 32,
   "id": "be6ed959",
   "metadata": {},
   "outputs": [],
   "source": [
    "train_set_train = pd.read_csv('../data/cleaned/df_train_cleaned.csv')\n",
    "train_set_test = pd.read_csv('../data/cleaned/df_test_cleaned.csv')\n",
    "test_set = pd.read_csv('../data/cleaned/test_cleaned.csv')"
   ]
  },
  {
   "cell_type": "code",
   "execution_count": 33,
   "id": "13d1d6cf",
   "metadata": {},
   "outputs": [
    {
     "name": "stdout",
     "output_type": "stream",
     "text": [
      "Train set shape: (934, 75)\n",
      "Test Train set shape: (234, 75)\n",
      "Test set shape: (1459, 74)\n"
     ]
    }
   ],
   "source": [
    "print(\"Train set shape:\", train_set_train.shape)\n",
    "print(\"Test Train set shape:\", train_set_test.shape)\n",
    "print(\"Test set shape:\", test_set.shape)"
   ]
  },
  {
   "cell_type": "code",
   "execution_count": 34,
   "id": "ecf624ea",
   "metadata": {},
   "outputs": [],
   "source": [
    "def separate_features_by_type(df):\n",
    "    numerical_cols = df.select_dtypes(include=['number']).columns.tolist()\n",
    "    categorical_cols = df.select_dtypes(include=['object', 'category', 'bool']).columns.tolist()\n",
    "    \n",
    "    return numerical_cols, categorical_cols"
   ]
  },
  {
   "cell_type": "code",
   "execution_count": 35,
   "id": "2f2429fb",
   "metadata": {},
   "outputs": [],
   "source": [
    "# MSSubClass represent a categorical feature but was encoded as numerical, we will leave as so\n",
    "num_train,cat_train = separate_features_by_type(train_set_train)\n",
    "num_test,cat_test = separate_features_by_type(train_set_test)\n",
    "num, cat = separate_features_by_type(test_set)"
   ]
  },
  {
   "cell_type": "code",
   "execution_count": 36,
   "id": "fe1526f4",
   "metadata": {},
   "outputs": [
    {
     "name": "stdout",
     "output_type": "stream",
     "text": [
      "38 numerical features in train set\n",
      "37 categorical features in train set\n",
      "38 numerical features in test set\n",
      "37 categorical features in test set\n",
      "37 numerical features in test set\n",
      "37 categorical features in test set\n"
     ]
    }
   ],
   "source": [
    "print(len(num_train), \"numerical features in train set\")\n",
    "print(len(cat_train), \"categorical features in train set\")\n",
    "print(len(num_test), \"numerical features in test set\")\n",
    "print(len(cat_test), \"categorical features in test set\")\n",
    "print(len(num), \"numerical features in test set\")\n",
    "print(len(cat), \"categorical features in test set\")"
   ]
  },
  {
   "cell_type": "code",
   "execution_count": null,
   "id": "96f7096b",
   "metadata": {},
   "outputs": [],
   "source": [
    "train_set_train[num_train]"
   ]
  },
  {
   "cell_type": "code",
   "execution_count": 38,
   "id": "a65b580c",
   "metadata": {},
   "outputs": [],
   "source": [
    "def count_zeros_in_columns(df):\n",
    "    zero_counts = {}\n",
    "    for col in df.columns:\n",
    "        if (df[col] == 0).sum() > 0:\n",
    "            zero_counts[col] = (df[col] == 0).sum()\n",
    "    \n",
    "    return zero_counts"
   ]
  },
  {
   "cell_type": "code",
   "execution_count": null,
   "id": "e0dd5cd0",
   "metadata": {},
   "outputs": [],
   "source": [
    "# Assuming you've already defined count_zeros_in_columns()\n",
    "\n",
    "# Count zeros in each dataset\n",
    "zero_columns_testset = count_zeros_in_columns(test_set[num])\n",
    "zero_columns_train = count_zeros_in_columns(train_set_train[num_train])\n",
    "zero_columns_test = count_zeros_in_columns(train_set_test[num_test])\n",
    "\n",
    "# Print results with labels\n",
    "print(\"🔍 Zero Values in Test Set:\")\n",
    "for col, count in zero_columns_testset.items():\n",
    "    print(f\"{col}: {count}\")\n",
    "\n",
    "print(\"\\n🔍 Zero Values in Train Set (Train Split):\")\n",
    "for col, count in zero_columns_train.items():\n",
    "    print(f\"{col}: {count}\")\n",
    "\n",
    "print(\"\\n🔍 Zero Values in Train Set (Test Split):\")\n",
    "for col, count in zero_columns_test.items():\n",
    "    print(f\"{col}: {count}\")\n"
   ]
  },
  {
   "cell_type": "code",
   "execution_count": null,
   "id": "be04fd33",
   "metadata": {},
   "outputs": [
    {
     "name": "stdout",
     "output_type": "stream",
     "text": [
      "Columns with >70% zeros removed: ['BsmtFinSF2', 'LowQualFinSF', 'BsmtHalfBath', 'EnclosedPorch', '3SsnPorch', 'ScreenPorch', 'PoolArea', 'MiscVal']\n",
      "New shape of train_set_train: (934, 67)\n",
      "Updated num_train list length: 30\n"
     ]
    }
   ],
   "source": [
    "# Step 2: Define the threshold (70% of total rows)\n",
    "threshold = 0.7 * len(train_set_train)\n",
    "\n",
    "# Step 3: Find columns with more than 70% zeros\n",
    "high_zero_cols = [col for col, count in zero_columns_train.items() if count > threshold]\n",
    "\n",
    "# Step 4: Drop these columns from the training DataFrame\n",
    "train_set_train.drop(columns=high_zero_cols, inplace=True)\n",
    "train_set_test.drop(columns=high_zero_cols, inplace=True)\n",
    "test_set.drop(columns=high_zero_cols, inplace=True)\n",
    "\n",
    "# Step 5: Remove (pop) those columns from num_train list\n",
    "# Applying to other dataset too\n",
    "num_train = [col for col in num_train if col not in high_zero_cols]\n",
    "num_test = [col for col in num_train if col not in high_zero_cols]\n",
    "num  = [col for col in num_train if col not in high_zero_cols]\n",
    "\n"
   ]
  },
  {
   "cell_type": "code",
   "execution_count": 47,
   "id": "d10f01ef",
   "metadata": {},
   "outputs": [],
   "source": [
    "def output_result() : \n",
    "    # Output results\n",
    "    print(\"Columns with >70% zeros removed:\", high_zero_cols)\n",
    "    print(\"New shape of train_set_train:\", train_set_train.shape)\n",
    "    print(\"New shape of train_set_test:\", train_set_test.shape)\n",
    "    print(\"New shape of test_set:\", test_set.shape)\n",
    "    print(\"Updated num_train list length:\", len(num_train))\n",
    "    print(\"Updated num_test list length:\", len(num_test))\n",
    "    print(\"Updated num list length:\", len(num))"
   ]
  },
  {
   "cell_type": "code",
   "execution_count": 48,
   "id": "bcf7844f",
   "metadata": {},
   "outputs": [
    {
     "name": "stdout",
     "output_type": "stream",
     "text": [
      "Columns with >70% zeros removed: ['BsmtFinSF2', 'LowQualFinSF', 'BsmtHalfBath', 'EnclosedPorch', '3SsnPorch', 'ScreenPorch', 'PoolArea', 'MiscVal']\n",
      "New shape of train_set_train: (934, 67)\n",
      "New shape of train_set_test: (234, 67)\n",
      "New shape of test_set: (1459, 66)\n",
      "Updated num_train list length: 30\n",
      "Updated num_test list length: 30\n",
      "Updated num list length: 30\n"
     ]
    }
   ],
   "source": [
    "output_result()"
   ]
  },
  {
   "cell_type": "markdown",
   "id": "46364c35",
   "metadata": {},
   "source": [
    "### Dropping Strongly Correlated Pairs\n",
    "We discovered them from eda"
   ]
  },
  {
   "cell_type": "code",
   "execution_count": 45,
   "id": "3612323d",
   "metadata": {},
   "outputs": [],
   "source": [
    "strongly_correlated_pairs = [\n",
    "    (\"GarageCars\", \"GarageArea\"),\n",
    "    (\"TotalBsmtSF\", \"1stFlrSF\"),\n",
    "    (\"GrLivArea\", \"TotRmsAbvGrd\"),\n",
    "    (\"YearBuilt\", \"GarageYrBlt\"),\n",
    "]"
   ]
  },
  {
   "cell_type": "code",
   "execution_count": 46,
   "id": "6e4fa202",
   "metadata": {},
   "outputs": [],
   "source": [
    "def drop_strongly_correlated(df, strongly_correlated_pairs, num_train):\n",
    "    for col1, col2 in strongly_correlated_pairs:\n",
    "        if col1 in df.columns and col2 in df.columns:\n",
    "            print(f\"Dropping '{col2}' because it's strongly correlated with '{col1}'\")\n",
    "            df.drop(columns=[col2], inplace=True)\n",
    "            if col2 in num_train:\n",
    "                num_train.remove(col2)\n",
    "    return df, num_train\n"
   ]
  },
  {
   "cell_type": "code",
   "execution_count": 49,
   "id": "b22bf2a4",
   "metadata": {},
   "outputs": [
    {
     "name": "stdout",
     "output_type": "stream",
     "text": [
      "Dropping 'GarageArea' because it's strongly correlated with 'GarageCars'\n",
      "Dropping '1stFlrSF' because it's strongly correlated with 'TotalBsmtSF'\n",
      "Dropping 'TotRmsAbvGrd' because it's strongly correlated with 'GrLivArea'\n",
      "Dropping 'GarageYrBlt' because it's strongly correlated with 'YearBuilt'\n",
      "Dropping 'GarageArea' because it's strongly correlated with 'GarageCars'\n",
      "Dropping '1stFlrSF' because it's strongly correlated with 'TotalBsmtSF'\n",
      "Dropping 'TotRmsAbvGrd' because it's strongly correlated with 'GrLivArea'\n",
      "Dropping 'GarageYrBlt' because it's strongly correlated with 'YearBuilt'\n",
      "Dropping 'GarageArea' because it's strongly correlated with 'GarageCars'\n",
      "Dropping '1stFlrSF' because it's strongly correlated with 'TotalBsmtSF'\n",
      "Dropping 'TotRmsAbvGrd' because it's strongly correlated with 'GrLivArea'\n",
      "Dropping 'GarageYrBlt' because it's strongly correlated with 'YearBuilt'\n"
     ]
    }
   ],
   "source": [
    "train_set_train, num_train = drop_strongly_correlated(train_set_train, strongly_correlated_pairs, num_train)\n",
    "train_set_test, num_test = drop_strongly_correlated(train_set_test, strongly_correlated_pairs, num_test)\n",
    "test_set, num = drop_strongly_correlated(test_set, strongly_correlated_pairs, num)"
   ]
  },
  {
   "cell_type": "code",
   "execution_count": 50,
   "id": "b12022e1",
   "metadata": {},
   "outputs": [
    {
     "name": "stdout",
     "output_type": "stream",
     "text": [
      "Columns with >70% zeros removed: ['BsmtFinSF2', 'LowQualFinSF', 'BsmtHalfBath', 'EnclosedPorch', '3SsnPorch', 'ScreenPorch', 'PoolArea', 'MiscVal']\n",
      "New shape of train_set_train: (934, 63)\n",
      "New shape of train_set_test: (234, 63)\n",
      "New shape of test_set: (1459, 62)\n",
      "Updated num_train list length: 26\n",
      "Updated num_test list length: 26\n",
      "Updated num list length: 26\n"
     ]
    }
   ],
   "source": [
    "output_result()"
   ]
  },
  {
   "cell_type": "code",
   "execution_count": 61,
   "id": "71a0659c",
   "metadata": {},
   "outputs": [],
   "source": [
    "train_set_train.to_csv(\"../data/feature_eng/train.csv\", index=False)\n",
    "train_set_test.to_csv(\"../data/feature_eng/test.csv\", index=False)\n",
    "test_set.to_csv(\"../data/feature_eng/sub.csv\", index=False)"
   ]
  }
 ],
 "metadata": {
  "kernelspec": {
   "display_name": "env",
   "language": "python",
   "name": "python3"
  },
  "language_info": {
   "codemirror_mode": {
    "name": "ipython",
    "version": 3
   },
   "file_extension": ".py",
   "mimetype": "text/x-python",
   "name": "python",
   "nbconvert_exporter": "python",
   "pygments_lexer": "ipython3",
   "version": "3.12.7"
  }
 },
 "nbformat": 4,
 "nbformat_minor": 5
}
