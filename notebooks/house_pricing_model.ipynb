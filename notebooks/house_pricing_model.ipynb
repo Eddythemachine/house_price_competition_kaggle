{
  "cells": [
    {
      "cell_type": "markdown",
      "metadata": {
        "id": "kMvZoB5n2QfV"
      },
      "source": [
        "# IMPORTING LIBS"
      ]
    },
    {
      "cell_type": "code",
      "execution_count": null,
      "metadata": {},
      "outputs": [],
      "source": [
        "%pip install requirements.txt"
      ]
    },
    {
      "cell_type": "code",
      "execution_count": 63,
      "metadata": {
        "id": "haHDIyOx2Fn8"
      },
      "outputs": [],
      "source": [
        "# 📦 Data Handling\n",
        "import pandas as pd\n",
        "import numpy as np\n",
        "\n",
        "# 📊 Visualization\n",
        "import matplotlib.pyplot as plt\n",
        "import seaborn as sns\n",
        "\n",
        "# 🧪 Scikit-learn Models & Tools\n",
        "from sklearn.model_selection import GridSearchCV, KFold\n",
        "from sklearn.metrics import mean_squared_error, r2_score, mean_absolute_error\n",
        "from sklearn.tree import DecisionTreeRegressor\n",
        "from sklearn.neighbors import KNeighborsRegressor\n",
        "\n",
        "# 🚀 XGBoost\n",
        "from xgboost import XGBRegressor\n"
      ]
    },
    {
      "cell_type": "markdown",
      "metadata": {
        "id": "c-B9C09A2VFo"
      },
      "source": [
        "# IMPORTING DATA"
      ]
    },
    {
      "cell_type": "code",
      "execution_count": 24,
      "metadata": {
        "id": "kdOfqzi12UeP"
      },
      "outputs": [],
      "source": [
        "df_train = pd.read_csv('train.csv')\n",
        "df_test = pd.read_csv('test.csv')\n",
        "df_sub = pd.read_csv('sub.csv')"
      ]
    },
    {
      "cell_type": "code",
      "execution_count": 25,
      "metadata": {
        "colab": {
          "base_uri": "https://localhost:8080/"
        },
        "id": "UTbBpT4axtkO",
        "outputId": "c0bbfea1-bc19-4c14-d64e-526ffabe92a8"
      },
      "outputs": [
        {
          "name": "stdout",
          "output_type": "stream",
          "text": [
            "(934, 63)\n",
            "(234, 63)\n",
            "(1459, 62)\n"
          ]
        }
      ],
      "source": [
        "print(df_train.shape)\n",
        "print(df_test.shape)\n",
        "print(df_sub.shape)"
      ]
    },
    {
      "cell_type": "code",
      "execution_count": 26,
      "metadata": {
        "colab": {
          "base_uri": "https://localhost:8080/"
        },
        "id": "CjWCSEwsyAJN",
        "outputId": "56a89e4f-a18a-457d-cb42-7230ae790688"
      },
      "outputs": [
        {
          "name": "stdout",
          "output_type": "stream",
          "text": [
            "Numerical Columns: Index(['Id', 'MSSubClass', 'LotFrontage', 'LotArea', 'OverallQual',\n",
            "       'OverallCond', 'YearBuilt', 'YearRemodAdd', 'MasVnrArea', 'BsmtFinSF1',\n",
            "       'BsmtUnfSF', 'TotalBsmtSF', '2ndFlrSF', 'GrLivArea', 'BsmtFullBath',\n",
            "       'FullBath', 'HalfBath', 'BedroomAbvGr', 'KitchenAbvGr', 'Fireplaces',\n",
            "       'GarageCars', 'WoodDeckSF', 'OpenPorchSF', 'MoSold', 'YrSold',\n",
            "       'SalePrice'],\n",
            "      dtype='object')\n",
            "\n",
            "Categorical Columns: Index(['MSZoning', 'Street', 'LotShape', 'LandContour', 'Utilities',\n",
            "       'LotConfig', 'LandSlope', 'Neighborhood', 'Condition1', 'Condition2',\n",
            "       'BldgType', 'HouseStyle', 'RoofStyle', 'RoofMatl', 'Exterior1st',\n",
            "       'Exterior2nd', 'ExterQual', 'ExterCond', 'Foundation', 'BsmtQual',\n",
            "       'BsmtCond', 'BsmtExposure', 'BsmtFinType1', 'BsmtFinType2', 'Heating',\n",
            "       'HeatingQC', 'CentralAir', 'Electrical', 'KitchenQual', 'Functional',\n",
            "       'GarageType', 'GarageFinish', 'GarageQual', 'GarageCond', 'PavedDrive',\n",
            "       'SaleType', 'SaleCondition'],\n",
            "      dtype='object')\n"
          ]
        }
      ],
      "source": [
        "numerical_cols = df_train.select_dtypes(include=np.number).columns\n",
        "categorical_cols = df_train.select_dtypes(include='object').columns\n",
        "\n",
        "print(\"Numerical Columns:\", numerical_cols)\n",
        "print(\"\\nCategorical Columns:\", categorical_cols)"
      ]
    },
    {
      "cell_type": "code",
      "execution_count": 27,
      "metadata": {
        "colab": {
          "base_uri": "https://localhost:8080/"
        },
        "id": "ylfUIYJcNWPB",
        "outputId": "e7093632-d52c-4217-c94b-f5ab29585b90"
      },
      "outputs": [
        {
          "name": "stderr",
          "output_type": "stream",
          "text": [
            "/tmp/ipython-input-27-3785452056.py:1: FutureWarning: A value is trying to be set on a copy of a DataFrame or Series through chained assignment using an inplace method.\n",
            "The behavior will change in pandas 3.0. This inplace method will never work because the intermediate object on which we are setting values always behaves as a copy.\n",
            "\n",
            "For example, when doing 'df[col].method(value, inplace=True)', try using 'df.method({col: value}, inplace=True)' or df[col] = df[col].method(value) instead, to perform the operation inplace on the original object.\n",
            "\n",
            "\n",
            "  df_sub[\"MasVnrArea\"].fillna(0, inplace=True)\n",
            "/tmp/ipython-input-27-3785452056.py:2: FutureWarning: A value is trying to be set on a copy of a DataFrame or Series through chained assignment using an inplace method.\n",
            "The behavior will change in pandas 3.0. This inplace method will never work because the intermediate object on which we are setting values always behaves as a copy.\n",
            "\n",
            "For example, when doing 'df[col].method(value, inplace=True)', try using 'df.method({col: value}, inplace=True)' or df[col] = df[col].method(value) instead, to perform the operation inplace on the original object.\n",
            "\n",
            "\n",
            "  df_sub[\"BsmtFullBath\"].fillna(0, inplace=True)\n"
          ]
        }
      ],
      "source": [
        "df_sub[\"MasVnrArea\"].fillna(0, inplace=True)\n",
        "df_sub[\"BsmtFullBath\"].fillna(0, inplace=True)"
      ]
    },
    {
      "cell_type": "markdown",
      "metadata": {
        "id": "j6dfMORw_niV"
      },
      "source": [
        "## Mapping Features for processing"
      ]
    },
    {
      "cell_type": "code",
      "execution_count": 28,
      "metadata": {
        "id": "Uh1o_U7Q4fJm"
      },
      "outputs": [],
      "source": [
        "standard_scale = [\"MSSubClass\", \"LotFrontage\", \"LotArea\", \"MasVnrArea\", \"BsmtFinSF1\", \"TotalBsmtSF\", \"2ndFlrSF\",\n",
        "\"GrLivArea\", \"BsmtFullBath\", \"FullBath\", \"HalfBath\", \"Fireplaces\", \"GarageCars\", \"WoodDeckSF\", \"OpenPorchSF\"]\n",
        "leave_num = [\"OverallQual\", \"OverallCond\", \"KitchenAbvGr\", \"BedroomAbvGr\"]\n",
        "year_columns = [\"YearBuilt\", \"YearRemodAdd\", \"MoSold\", \"YrSold\"]\n"
      ]
    },
    {
      "cell_type": "code",
      "execution_count": 29,
      "metadata": {
        "id": "KWc-SpbzyXpD"
      },
      "outputs": [],
      "source": [
        "one_encode_cat = [\"MSZoning\", \"Street\", \"LotShape\", \"LandContour\", \"Utilities\", \"LotConfig\", \"Neighborhood\"\n",
        ", \"Condition1\", \"Condition2\", \"BldgType\", \"HouseStyle\", \"RoofStyle\", \"RoofMatl\", \"Exterior1st\", \"Exterior2nd\",\n",
        "\"Foundation\", \"BsmtFinType1\", \"BsmtFinType2\", \"Heating\", \"Electrical\", \"Functional\", \"GarageType\", \"GarageFinish\",\n",
        "\"PavedDrive\", \"SaleType\", \"SaleCondition\", \"LandSlope\",\n",
        "\"Functional\"]\n",
        "\n",
        "label_encode = [\"ExterQual\", \"ExterCond\", \"BsmtQual\", \"BsmtCond\", \"BsmtExposure\", \"HeatingQC\", \"KitchenQual\",\n",
        "\"GarageQual\", \"GarageCond\", ]\n",
        "\n",
        "binary_encode = [\"CentralAir\"]"
      ]
    },
    {
      "cell_type": "code",
      "execution_count": 30,
      "metadata": {
        "id": "HVjGcCnz_t7R"
      },
      "outputs": [],
      "source": [
        "from sklearn.preprocessing import RobustScaler\n",
        "\n",
        "# Initialize RobustScaler\n",
        "scaler = RobustScaler()\n",
        "\n",
        "# Apply to the train, test, and submission datasets\n",
        "df_train[standard_scale] = scaler.fit_transform(df_train[standard_scale])\n",
        "df_test[standard_scale] = scaler.transform(df_test[standard_scale])\n",
        "df_sub[standard_scale] = scaler.transform(df_sub[standard_scale])"
      ]
    },
    {
      "cell_type": "code",
      "execution_count": 31,
      "metadata": {
        "colab": {
          "base_uri": "https://localhost:8080/",
          "height": 255
        },
        "id": "7GX1ikoJAtPg",
        "outputId": "2babc640-fb84-4650-c032-4ffeee1b513f"
      },
      "outputs": [
        {
          "data": {
            "application/vnd.google.colaboratory.intrinsic+json": {
              "type": "dataframe"
            },
            "text/html": [
              "\n",
              "  <div id=\"df-e28e10c0-b102-4081-8dd3-83dd7e2a75ca\" class=\"colab-df-container\">\n",
              "    <div>\n",
              "<style scoped>\n",
              "    .dataframe tbody tr th:only-of-type {\n",
              "        vertical-align: middle;\n",
              "    }\n",
              "\n",
              "    .dataframe tbody tr th {\n",
              "        vertical-align: top;\n",
              "    }\n",
              "\n",
              "    .dataframe thead th {\n",
              "        text-align: right;\n",
              "    }\n",
              "</style>\n",
              "<table border=\"1\" class=\"dataframe\">\n",
              "  <thead>\n",
              "    <tr style=\"text-align: right;\">\n",
              "      <th></th>\n",
              "      <th>Id</th>\n",
              "      <th>MSSubClass</th>\n",
              "      <th>LotFrontage</th>\n",
              "      <th>LotArea</th>\n",
              "      <th>OverallQual</th>\n",
              "      <th>OverallCond</th>\n",
              "      <th>YearBuilt</th>\n",
              "      <th>YearRemodAdd</th>\n",
              "      <th>MasVnrArea</th>\n",
              "      <th>ExterQual</th>\n",
              "      <th>...</th>\n",
              "      <th>LandSlope_Gtl</th>\n",
              "      <th>LandSlope_Mod</th>\n",
              "      <th>LandSlope_Sev</th>\n",
              "      <th>Functional_Maj1</th>\n",
              "      <th>Functional_Maj2</th>\n",
              "      <th>Functional_Min1</th>\n",
              "      <th>Functional_Min2</th>\n",
              "      <th>Functional_Mod</th>\n",
              "      <th>Functional_Sev</th>\n",
              "      <th>Functional_Typ</th>\n",
              "    </tr>\n",
              "  </thead>\n",
              "  <tbody>\n",
              "    <tr>\n",
              "      <th>0</th>\n",
              "      <td>252</td>\n",
              "      <td>1.4</td>\n",
              "      <td>-1.445322</td>\n",
              "      <td>-1.184510</td>\n",
              "      <td>8</td>\n",
              "      <td>5</td>\n",
              "      <td>2006</td>\n",
              "      <td>2007</td>\n",
              "      <td>2.829412</td>\n",
              "      <td>Gd</td>\n",
              "      <td>...</td>\n",
              "      <td>0.0</td>\n",
              "      <td>1.0</td>\n",
              "      <td>0.0</td>\n",
              "      <td>0.0</td>\n",
              "      <td>0.0</td>\n",
              "      <td>0.0</td>\n",
              "      <td>0.0</td>\n",
              "      <td>0.0</td>\n",
              "      <td>0.0</td>\n",
              "      <td>1.0</td>\n",
              "    </tr>\n",
              "    <tr>\n",
              "      <th>1</th>\n",
              "      <td>862</td>\n",
              "      <td>2.8</td>\n",
              "      <td>0.276901</td>\n",
              "      <td>0.497859</td>\n",
              "      <td>5</td>\n",
              "      <td>4</td>\n",
              "      <td>1965</td>\n",
              "      <td>1965</td>\n",
              "      <td>0.000000</td>\n",
              "      <td>TA</td>\n",
              "      <td>...</td>\n",
              "      <td>1.0</td>\n",
              "      <td>0.0</td>\n",
              "      <td>0.0</td>\n",
              "      <td>0.0</td>\n",
              "      <td>0.0</td>\n",
              "      <td>0.0</td>\n",
              "      <td>0.0</td>\n",
              "      <td>0.0</td>\n",
              "      <td>0.0</td>\n",
              "      <td>1.0</td>\n",
              "    </tr>\n",
              "    <tr>\n",
              "      <th>2</th>\n",
              "      <td>852</td>\n",
              "      <td>1.4</td>\n",
              "      <td>0.000000</td>\n",
              "      <td>-1.564786</td>\n",
              "      <td>8</td>\n",
              "      <td>5</td>\n",
              "      <td>2003</td>\n",
              "      <td>2003</td>\n",
              "      <td>0.235294</td>\n",
              "      <td>Gd</td>\n",
              "      <td>...</td>\n",
              "      <td>1.0</td>\n",
              "      <td>0.0</td>\n",
              "      <td>0.0</td>\n",
              "      <td>0.0</td>\n",
              "      <td>0.0</td>\n",
              "      <td>0.0</td>\n",
              "      <td>0.0</td>\n",
              "      <td>0.0</td>\n",
              "      <td>0.0</td>\n",
              "      <td>1.0</td>\n",
              "    </tr>\n",
              "    <tr>\n",
              "      <th>3</th>\n",
              "      <td>583</td>\n",
              "      <td>0.8</td>\n",
              "      <td>0.610234</td>\n",
              "      <td>0.550716</td>\n",
              "      <td>6</td>\n",
              "      <td>5</td>\n",
              "      <td>1990</td>\n",
              "      <td>1990</td>\n",
              "      <td>0.611765</td>\n",
              "      <td>TA</td>\n",
              "      <td>...</td>\n",
              "      <td>1.0</td>\n",
              "      <td>0.0</td>\n",
              "      <td>0.0</td>\n",
              "      <td>0.0</td>\n",
              "      <td>0.0</td>\n",
              "      <td>0.0</td>\n",
              "      <td>0.0</td>\n",
              "      <td>0.0</td>\n",
              "      <td>0.0</td>\n",
              "      <td>1.0</td>\n",
              "    </tr>\n",
              "    <tr>\n",
              "      <th>4</th>\n",
              "      <td>327</td>\n",
              "      <td>1.4</td>\n",
              "      <td>-2.111988</td>\n",
              "      <td>0.307231</td>\n",
              "      <td>8</td>\n",
              "      <td>5</td>\n",
              "      <td>1993</td>\n",
              "      <td>1993</td>\n",
              "      <td>0.000000</td>\n",
              "      <td>Gd</td>\n",
              "      <td>...</td>\n",
              "      <td>1.0</td>\n",
              "      <td>0.0</td>\n",
              "      <td>0.0</td>\n",
              "      <td>0.0</td>\n",
              "      <td>0.0</td>\n",
              "      <td>0.0</td>\n",
              "      <td>0.0</td>\n",
              "      <td>0.0</td>\n",
              "      <td>0.0</td>\n",
              "      <td>1.0</td>\n",
              "    </tr>\n",
              "  </tbody>\n",
              "</table>\n",
              "<p>5 rows × 231 columns</p>\n",
              "</div>\n",
              "    <div class=\"colab-df-buttons\">\n",
              "\n",
              "  <div class=\"colab-df-container\">\n",
              "    <button class=\"colab-df-convert\" onclick=\"convertToInteractive('df-e28e10c0-b102-4081-8dd3-83dd7e2a75ca')\"\n",
              "            title=\"Convert this dataframe to an interactive table.\"\n",
              "            style=\"display:none;\">\n",
              "\n",
              "  <svg xmlns=\"http://www.w3.org/2000/svg\" height=\"24px\" viewBox=\"0 -960 960 960\">\n",
              "    <path d=\"M120-120v-720h720v720H120Zm60-500h600v-160H180v160Zm220 220h160v-160H400v160Zm0 220h160v-160H400v160ZM180-400h160v-160H180v160Zm440 0h160v-160H620v160ZM180-180h160v-160H180v160Zm440 0h160v-160H620v160Z\"/>\n",
              "  </svg>\n",
              "    </button>\n",
              "\n",
              "  <style>\n",
              "    .colab-df-container {\n",
              "      display:flex;\n",
              "      gap: 12px;\n",
              "    }\n",
              "\n",
              "    .colab-df-convert {\n",
              "      background-color: #E8F0FE;\n",
              "      border: none;\n",
              "      border-radius: 50%;\n",
              "      cursor: pointer;\n",
              "      display: none;\n",
              "      fill: #1967D2;\n",
              "      height: 32px;\n",
              "      padding: 0 0 0 0;\n",
              "      width: 32px;\n",
              "    }\n",
              "\n",
              "    .colab-df-convert:hover {\n",
              "      background-color: #E2EBFA;\n",
              "      box-shadow: 0px 1px 2px rgba(60, 64, 67, 0.3), 0px 1px 3px 1px rgba(60, 64, 67, 0.15);\n",
              "      fill: #174EA6;\n",
              "    }\n",
              "\n",
              "    .colab-df-buttons div {\n",
              "      margin-bottom: 4px;\n",
              "    }\n",
              "\n",
              "    [theme=dark] .colab-df-convert {\n",
              "      background-color: #3B4455;\n",
              "      fill: #D2E3FC;\n",
              "    }\n",
              "\n",
              "    [theme=dark] .colab-df-convert:hover {\n",
              "      background-color: #434B5C;\n",
              "      box-shadow: 0px 1px 3px 1px rgba(0, 0, 0, 0.15);\n",
              "      filter: drop-shadow(0px 1px 2px rgba(0, 0, 0, 0.3));\n",
              "      fill: #FFFFFF;\n",
              "    }\n",
              "  </style>\n",
              "\n",
              "    <script>\n",
              "      const buttonEl =\n",
              "        document.querySelector('#df-e28e10c0-b102-4081-8dd3-83dd7e2a75ca button.colab-df-convert');\n",
              "      buttonEl.style.display =\n",
              "        google.colab.kernel.accessAllowed ? 'block' : 'none';\n",
              "\n",
              "      async function convertToInteractive(key) {\n",
              "        const element = document.querySelector('#df-e28e10c0-b102-4081-8dd3-83dd7e2a75ca');\n",
              "        const dataTable =\n",
              "          await google.colab.kernel.invokeFunction('convertToInteractive',\n",
              "                                                    [key], {});\n",
              "        if (!dataTable) return;\n",
              "\n",
              "        const docLinkHtml = 'Like what you see? Visit the ' +\n",
              "          '<a target=\"_blank\" href=https://colab.research.google.com/notebooks/data_table.ipynb>data table notebook</a>'\n",
              "          + ' to learn more about interactive tables.';\n",
              "        element.innerHTML = '';\n",
              "        dataTable['output_type'] = 'display_data';\n",
              "        await google.colab.output.renderOutput(dataTable, element);\n",
              "        const docLink = document.createElement('div');\n",
              "        docLink.innerHTML = docLinkHtml;\n",
              "        element.appendChild(docLink);\n",
              "      }\n",
              "    </script>\n",
              "  </div>\n",
              "\n",
              "\n",
              "    <div id=\"df-333a4c1e-f84a-41aa-8be5-1c0a65c43491\">\n",
              "      <button class=\"colab-df-quickchart\" onclick=\"quickchart('df-333a4c1e-f84a-41aa-8be5-1c0a65c43491')\"\n",
              "                title=\"Suggest charts\"\n",
              "                style=\"display:none;\">\n",
              "\n",
              "<svg xmlns=\"http://www.w3.org/2000/svg\" height=\"24px\"viewBox=\"0 0 24 24\"\n",
              "     width=\"24px\">\n",
              "    <g>\n",
              "        <path d=\"M19 3H5c-1.1 0-2 .9-2 2v14c0 1.1.9 2 2 2h14c1.1 0 2-.9 2-2V5c0-1.1-.9-2-2-2zM9 17H7v-7h2v7zm4 0h-2V7h2v10zm4 0h-2v-4h2v4z\"/>\n",
              "    </g>\n",
              "</svg>\n",
              "      </button>\n",
              "\n",
              "<style>\n",
              "  .colab-df-quickchart {\n",
              "      --bg-color: #E8F0FE;\n",
              "      --fill-color: #1967D2;\n",
              "      --hover-bg-color: #E2EBFA;\n",
              "      --hover-fill-color: #174EA6;\n",
              "      --disabled-fill-color: #AAA;\n",
              "      --disabled-bg-color: #DDD;\n",
              "  }\n",
              "\n",
              "  [theme=dark] .colab-df-quickchart {\n",
              "      --bg-color: #3B4455;\n",
              "      --fill-color: #D2E3FC;\n",
              "      --hover-bg-color: #434B5C;\n",
              "      --hover-fill-color: #FFFFFF;\n",
              "      --disabled-bg-color: #3B4455;\n",
              "      --disabled-fill-color: #666;\n",
              "  }\n",
              "\n",
              "  .colab-df-quickchart {\n",
              "    background-color: var(--bg-color);\n",
              "    border: none;\n",
              "    border-radius: 50%;\n",
              "    cursor: pointer;\n",
              "    display: none;\n",
              "    fill: var(--fill-color);\n",
              "    height: 32px;\n",
              "    padding: 0;\n",
              "    width: 32px;\n",
              "  }\n",
              "\n",
              "  .colab-df-quickchart:hover {\n",
              "    background-color: var(--hover-bg-color);\n",
              "    box-shadow: 0 1px 2px rgba(60, 64, 67, 0.3), 0 1px 3px 1px rgba(60, 64, 67, 0.15);\n",
              "    fill: var(--button-hover-fill-color);\n",
              "  }\n",
              "\n",
              "  .colab-df-quickchart-complete:disabled,\n",
              "  .colab-df-quickchart-complete:disabled:hover {\n",
              "    background-color: var(--disabled-bg-color);\n",
              "    fill: var(--disabled-fill-color);\n",
              "    box-shadow: none;\n",
              "  }\n",
              "\n",
              "  .colab-df-spinner {\n",
              "    border: 2px solid var(--fill-color);\n",
              "    border-color: transparent;\n",
              "    border-bottom-color: var(--fill-color);\n",
              "    animation:\n",
              "      spin 1s steps(1) infinite;\n",
              "  }\n",
              "\n",
              "  @keyframes spin {\n",
              "    0% {\n",
              "      border-color: transparent;\n",
              "      border-bottom-color: var(--fill-color);\n",
              "      border-left-color: var(--fill-color);\n",
              "    }\n",
              "    20% {\n",
              "      border-color: transparent;\n",
              "      border-left-color: var(--fill-color);\n",
              "      border-top-color: var(--fill-color);\n",
              "    }\n",
              "    30% {\n",
              "      border-color: transparent;\n",
              "      border-left-color: var(--fill-color);\n",
              "      border-top-color: var(--fill-color);\n",
              "      border-right-color: var(--fill-color);\n",
              "    }\n",
              "    40% {\n",
              "      border-color: transparent;\n",
              "      border-right-color: var(--fill-color);\n",
              "      border-top-color: var(--fill-color);\n",
              "    }\n",
              "    60% {\n",
              "      border-color: transparent;\n",
              "      border-right-color: var(--fill-color);\n",
              "    }\n",
              "    80% {\n",
              "      border-color: transparent;\n",
              "      border-right-color: var(--fill-color);\n",
              "      border-bottom-color: var(--fill-color);\n",
              "    }\n",
              "    90% {\n",
              "      border-color: transparent;\n",
              "      border-bottom-color: var(--fill-color);\n",
              "    }\n",
              "  }\n",
              "</style>\n",
              "\n",
              "      <script>\n",
              "        async function quickchart(key) {\n",
              "          const quickchartButtonEl =\n",
              "            document.querySelector('#' + key + ' button');\n",
              "          quickchartButtonEl.disabled = true;  // To prevent multiple clicks.\n",
              "          quickchartButtonEl.classList.add('colab-df-spinner');\n",
              "          try {\n",
              "            const charts = await google.colab.kernel.invokeFunction(\n",
              "                'suggestCharts', [key], {});\n",
              "          } catch (error) {\n",
              "            console.error('Error during call to suggestCharts:', error);\n",
              "          }\n",
              "          quickchartButtonEl.classList.remove('colab-df-spinner');\n",
              "          quickchartButtonEl.classList.add('colab-df-quickchart-complete');\n",
              "        }\n",
              "        (() => {\n",
              "          let quickchartButtonEl =\n",
              "            document.querySelector('#df-333a4c1e-f84a-41aa-8be5-1c0a65c43491 button');\n",
              "          quickchartButtonEl.style.display =\n",
              "            google.colab.kernel.accessAllowed ? 'block' : 'none';\n",
              "        })();\n",
              "      </script>\n",
              "    </div>\n",
              "\n",
              "    </div>\n",
              "  </div>\n"
            ],
            "text/plain": [
              "    Id  MSSubClass  LotFrontage   LotArea  OverallQual  OverallCond  \\\n",
              "0  252         1.4    -1.445322 -1.184510            8            5   \n",
              "1  862         2.8     0.276901  0.497859            5            4   \n",
              "2  852         1.4     0.000000 -1.564786            8            5   \n",
              "3  583         0.8     0.610234  0.550716            6            5   \n",
              "4  327         1.4    -2.111988  0.307231            8            5   \n",
              "\n",
              "   YearBuilt  YearRemodAdd  MasVnrArea ExterQual  ... LandSlope_Gtl  \\\n",
              "0       2006          2007    2.829412        Gd  ...           0.0   \n",
              "1       1965          1965    0.000000        TA  ...           1.0   \n",
              "2       2003          2003    0.235294        Gd  ...           1.0   \n",
              "3       1990          1990    0.611765        TA  ...           1.0   \n",
              "4       1993          1993    0.000000        Gd  ...           1.0   \n",
              "\n",
              "  LandSlope_Mod LandSlope_Sev Functional_Maj1  Functional_Maj2  \\\n",
              "0           1.0           0.0             0.0              0.0   \n",
              "1           0.0           0.0             0.0              0.0   \n",
              "2           0.0           0.0             0.0              0.0   \n",
              "3           0.0           0.0             0.0              0.0   \n",
              "4           0.0           0.0             0.0              0.0   \n",
              "\n",
              "   Functional_Min1  Functional_Min2 Functional_Mod Functional_Sev  \\\n",
              "0              0.0              0.0            0.0            0.0   \n",
              "1              0.0              0.0            0.0            0.0   \n",
              "2              0.0              0.0            0.0            0.0   \n",
              "3              0.0              0.0            0.0            0.0   \n",
              "4              0.0              0.0            0.0            0.0   \n",
              "\n",
              "   Functional_Typ  \n",
              "0             1.0  \n",
              "1             1.0  \n",
              "2             1.0  \n",
              "3             1.0  \n",
              "4             1.0  \n",
              "\n",
              "[5 rows x 231 columns]"
            ]
          },
          "metadata": {},
          "output_type": "display_data"
        }
      ],
      "source": [
        "from sklearn.preprocessing import OneHotEncoder\n",
        "\n",
        "encoder = OneHotEncoder(handle_unknown='ignore', sparse_output=False)\n",
        "\n",
        "# Fit and transform on the training data\n",
        "encoded_train = encoder.fit_transform(df_train[one_encode_cat])\n",
        "encoded_test = encoder.transform(df_test[one_encode_cat])\n",
        "encoded_sub = encoder.transform(df_sub[one_encode_cat])\n",
        "\n",
        "# Create DataFrames from encoded arrays\n",
        "encoded_train_df = pd.DataFrame(encoded_train, columns=encoder.get_feature_names_out(one_encode_cat))\n",
        "encoded_test_df = pd.DataFrame(encoded_test, columns=encoder.get_feature_names_out(one_encode_cat))\n",
        "encoded_sub_df = pd.DataFrame(encoded_sub, columns=encoder.get_feature_names_out(one_encode_cat))\n",
        "\n",
        "# Drop original categorical columns\n",
        "df_train = df_train.drop(columns=one_encode_cat)\n",
        "df_test = df_test.drop(columns=one_encode_cat)\n",
        "df_sub = df_sub.drop(columns=one_encode_cat)\n",
        "\n",
        "# Concatenate original dataframes with encoded dataframes\n",
        "df_train = pd.concat([df_train, encoded_train_df], axis=1)\n",
        "df_test = pd.concat([df_test, encoded_test_df], axis=1)\n",
        "df_sub = pd.concat([df_sub, encoded_sub_df], axis=1)\n",
        "\n",
        "display(df_train.head())"
      ]
    },
    {
      "cell_type": "code",
      "execution_count": 32,
      "metadata": {
        "id": "YRVQsKcKIEOS"
      },
      "outputs": [],
      "source": [
        "# Define mapping for ordinal label encoding\n",
        "ordinal_mapping = {\n",
        "    \"Ex\": 5,\n",
        "    \"Gd\": 4,\n",
        "    \"TA\": 3,\n",
        "    \"Fa\": 2,\n",
        "    \"Po\": 1,\n",
        "    \"Av\": 3,  # Used for BsmtCond\n",
        "    \"Mn\": 2,  # Used for BsmtCond\n",
        "    \"No\": 1,  # Used for BsmtCond\n",
        "    \"NA\": 0,  # Used for features where 'NA' indicates no feature\n",
        "}\n",
        "\n",
        "\n",
        "# Function to apply mapping safely\n",
        "def apply_label_encoding(df, columns, mapping):\n",
        "    for col in columns:\n",
        "        if col in df.columns:\n",
        "            df[col] = df[col].map(mapping).fillna(0).astype(int)\n",
        "\n",
        "# Apply to all three DataFrames\n",
        "apply_label_encoding(df_train, label_encode, ordinal_mapping)\n",
        "apply_label_encoding(df_test, label_encode, ordinal_mapping)\n",
        "apply_label_encoding(df_sub, label_encode, ordinal_mapping)\n"
      ]
    },
    {
      "cell_type": "code",
      "execution_count": 33,
      "metadata": {
        "id": "D9b9MBk_I27R"
      },
      "outputs": [],
      "source": [
        "# Define binary mapping for CentralAir\n",
        "central_air_map = {\"N\": 0, \"Y\": 1}\n",
        "\n",
        "# Apply to all DataFrames\n",
        "for df in [df_train, df_test, df_sub]:\n",
        "    if 'CentralAir' in df.columns:\n",
        "        df['CentralAir'] = df['CentralAir'].map(central_air_map).astype(int)"
      ]
    },
    {
      "cell_type": "code",
      "execution_count": 34,
      "metadata": {
        "colab": {
          "base_uri": "https://localhost:8080/"
        },
        "id": "Jaf-hX_FJ4XG",
        "outputId": "a77d60c4-d5e5-4a34-dc81-86c208a549e6"
      },
      "outputs": [
        {
          "name": "stdout",
          "output_type": "stream",
          "text": [
            "(934, 231)\n",
            "(234, 231)\n",
            "(1459, 230)\n"
          ]
        }
      ],
      "source": [
        "print(df_train.shape)\n",
        "print(df_test.shape)\n",
        "print(df_sub.shape)"
      ]
    },
    {
      "cell_type": "code",
      "execution_count": 35,
      "metadata": {
        "colab": {
          "base_uri": "https://localhost:8080/",
          "height": 255
        },
        "id": "dUnglae8LNaL",
        "outputId": "41a7412a-2862-4bf0-9fc3-3e647af2963d"
      },
      "outputs": [
        {
          "data": {
            "application/vnd.google.colaboratory.intrinsic+json": {
              "type": "dataframe",
              "variable_name": "df_sub"
            },
            "text/html": [
              "\n",
              "  <div id=\"df-3e137150-3276-4ef5-9a68-895570222913\" class=\"colab-df-container\">\n",
              "    <div>\n",
              "<style scoped>\n",
              "    .dataframe tbody tr th:only-of-type {\n",
              "        vertical-align: middle;\n",
              "    }\n",
              "\n",
              "    .dataframe tbody tr th {\n",
              "        vertical-align: top;\n",
              "    }\n",
              "\n",
              "    .dataframe thead th {\n",
              "        text-align: right;\n",
              "    }\n",
              "</style>\n",
              "<table border=\"1\" class=\"dataframe\">\n",
              "  <thead>\n",
              "    <tr style=\"text-align: right;\">\n",
              "      <th></th>\n",
              "      <th>Id</th>\n",
              "      <th>MSSubClass</th>\n",
              "      <th>LotFrontage</th>\n",
              "      <th>LotArea</th>\n",
              "      <th>OverallQual</th>\n",
              "      <th>OverallCond</th>\n",
              "      <th>YearBuilt</th>\n",
              "      <th>YearRemodAdd</th>\n",
              "      <th>MasVnrArea</th>\n",
              "      <th>ExterQual</th>\n",
              "      <th>...</th>\n",
              "      <th>LandSlope_Gtl</th>\n",
              "      <th>LandSlope_Mod</th>\n",
              "      <th>LandSlope_Sev</th>\n",
              "      <th>Functional_Maj1</th>\n",
              "      <th>Functional_Maj2</th>\n",
              "      <th>Functional_Min1</th>\n",
              "      <th>Functional_Min2</th>\n",
              "      <th>Functional_Mod</th>\n",
              "      <th>Functional_Sev</th>\n",
              "      <th>Functional_Typ</th>\n",
              "    </tr>\n",
              "  </thead>\n",
              "  <tbody>\n",
              "    <tr>\n",
              "      <th>0</th>\n",
              "      <td>1461</td>\n",
              "      <td>-0.6</td>\n",
              "      <td>0.554678</td>\n",
              "      <td>0.497125</td>\n",
              "      <td>5</td>\n",
              "      <td>6</td>\n",
              "      <td>1961</td>\n",
              "      <td>1961</td>\n",
              "      <td>0.000000</td>\n",
              "      <td>3</td>\n",
              "      <td>...</td>\n",
              "      <td>1.0</td>\n",
              "      <td>0.0</td>\n",
              "      <td>0.0</td>\n",
              "      <td>0.0</td>\n",
              "      <td>0.0</td>\n",
              "      <td>0.0</td>\n",
              "      <td>0.0</td>\n",
              "      <td>0.0</td>\n",
              "      <td>0.0</td>\n",
              "      <td>1.0</td>\n",
              "    </tr>\n",
              "    <tr>\n",
              "      <th>1</th>\n",
              "      <td>1462</td>\n",
              "      <td>-0.6</td>\n",
              "      <td>0.610234</td>\n",
              "      <td>1.144378</td>\n",
              "      <td>6</td>\n",
              "      <td>6</td>\n",
              "      <td>1958</td>\n",
              "      <td>1958</td>\n",
              "      <td>0.635294</td>\n",
              "      <td>3</td>\n",
              "      <td>...</td>\n",
              "      <td>1.0</td>\n",
              "      <td>0.0</td>\n",
              "      <td>0.0</td>\n",
              "      <td>0.0</td>\n",
              "      <td>0.0</td>\n",
              "      <td>0.0</td>\n",
              "      <td>0.0</td>\n",
              "      <td>0.0</td>\n",
              "      <td>0.0</td>\n",
              "      <td>1.0</td>\n",
              "    </tr>\n",
              "    <tr>\n",
              "      <th>2</th>\n",
              "      <td>1463</td>\n",
              "      <td>0.2</td>\n",
              "      <td>0.221345</td>\n",
              "      <td>1.037440</td>\n",
              "      <td>5</td>\n",
              "      <td>5</td>\n",
              "      <td>1997</td>\n",
              "      <td>1998</td>\n",
              "      <td>0.000000</td>\n",
              "      <td>3</td>\n",
              "      <td>...</td>\n",
              "      <td>1.0</td>\n",
              "      <td>0.0</td>\n",
              "      <td>0.0</td>\n",
              "      <td>0.0</td>\n",
              "      <td>0.0</td>\n",
              "      <td>0.0</td>\n",
              "      <td>0.0</td>\n",
              "      <td>0.0</td>\n",
              "      <td>0.0</td>\n",
              "      <td>1.0</td>\n",
              "    </tr>\n",
              "    <tr>\n",
              "      <th>3</th>\n",
              "      <td>1464</td>\n",
              "      <td>0.2</td>\n",
              "      <td>0.443567</td>\n",
              "      <td>0.094824</td>\n",
              "      <td>6</td>\n",
              "      <td>6</td>\n",
              "      <td>1998</td>\n",
              "      <td>1998</td>\n",
              "      <td>0.117647</td>\n",
              "      <td>3</td>\n",
              "      <td>...</td>\n",
              "      <td>1.0</td>\n",
              "      <td>0.0</td>\n",
              "      <td>0.0</td>\n",
              "      <td>0.0</td>\n",
              "      <td>0.0</td>\n",
              "      <td>0.0</td>\n",
              "      <td>0.0</td>\n",
              "      <td>0.0</td>\n",
              "      <td>0.0</td>\n",
              "      <td>1.0</td>\n",
              "    </tr>\n",
              "    <tr>\n",
              "      <th>4</th>\n",
              "      <td>1465</td>\n",
              "      <td>1.4</td>\n",
              "      <td>-1.500877</td>\n",
              "      <td>-1.122109</td>\n",
              "      <td>8</td>\n",
              "      <td>5</td>\n",
              "      <td>1992</td>\n",
              "      <td>1992</td>\n",
              "      <td>0.000000</td>\n",
              "      <td>4</td>\n",
              "      <td>...</td>\n",
              "      <td>1.0</td>\n",
              "      <td>0.0</td>\n",
              "      <td>0.0</td>\n",
              "      <td>0.0</td>\n",
              "      <td>0.0</td>\n",
              "      <td>0.0</td>\n",
              "      <td>0.0</td>\n",
              "      <td>0.0</td>\n",
              "      <td>0.0</td>\n",
              "      <td>1.0</td>\n",
              "    </tr>\n",
              "  </tbody>\n",
              "</table>\n",
              "<p>5 rows × 230 columns</p>\n",
              "</div>\n",
              "    <div class=\"colab-df-buttons\">\n",
              "\n",
              "  <div class=\"colab-df-container\">\n",
              "    <button class=\"colab-df-convert\" onclick=\"convertToInteractive('df-3e137150-3276-4ef5-9a68-895570222913')\"\n",
              "            title=\"Convert this dataframe to an interactive table.\"\n",
              "            style=\"display:none;\">\n",
              "\n",
              "  <svg xmlns=\"http://www.w3.org/2000/svg\" height=\"24px\" viewBox=\"0 -960 960 960\">\n",
              "    <path d=\"M120-120v-720h720v720H120Zm60-500h600v-160H180v160Zm220 220h160v-160H400v160Zm0 220h160v-160H400v160ZM180-400h160v-160H180v160Zm440 0h160v-160H620v160ZM180-180h160v-160H180v160Zm440 0h160v-160H620v160Z\"/>\n",
              "  </svg>\n",
              "    </button>\n",
              "\n",
              "  <style>\n",
              "    .colab-df-container {\n",
              "      display:flex;\n",
              "      gap: 12px;\n",
              "    }\n",
              "\n",
              "    .colab-df-convert {\n",
              "      background-color: #E8F0FE;\n",
              "      border: none;\n",
              "      border-radius: 50%;\n",
              "      cursor: pointer;\n",
              "      display: none;\n",
              "      fill: #1967D2;\n",
              "      height: 32px;\n",
              "      padding: 0 0 0 0;\n",
              "      width: 32px;\n",
              "    }\n",
              "\n",
              "    .colab-df-convert:hover {\n",
              "      background-color: #E2EBFA;\n",
              "      box-shadow: 0px 1px 2px rgba(60, 64, 67, 0.3), 0px 1px 3px 1px rgba(60, 64, 67, 0.15);\n",
              "      fill: #174EA6;\n",
              "    }\n",
              "\n",
              "    .colab-df-buttons div {\n",
              "      margin-bottom: 4px;\n",
              "    }\n",
              "\n",
              "    [theme=dark] .colab-df-convert {\n",
              "      background-color: #3B4455;\n",
              "      fill: #D2E3FC;\n",
              "    }\n",
              "\n",
              "    [theme=dark] .colab-df-convert:hover {\n",
              "      background-color: #434B5C;\n",
              "      box-shadow: 0px 1px 3px 1px rgba(0, 0, 0, 0.15);\n",
              "      filter: drop-shadow(0px 1px 2px rgba(0, 0, 0, 0.3));\n",
              "      fill: #FFFFFF;\n",
              "    }\n",
              "  </style>\n",
              "\n",
              "    <script>\n",
              "      const buttonEl =\n",
              "        document.querySelector('#df-3e137150-3276-4ef5-9a68-895570222913 button.colab-df-convert');\n",
              "      buttonEl.style.display =\n",
              "        google.colab.kernel.accessAllowed ? 'block' : 'none';\n",
              "\n",
              "      async function convertToInteractive(key) {\n",
              "        const element = document.querySelector('#df-3e137150-3276-4ef5-9a68-895570222913');\n",
              "        const dataTable =\n",
              "          await google.colab.kernel.invokeFunction('convertToInteractive',\n",
              "                                                    [key], {});\n",
              "        if (!dataTable) return;\n",
              "\n",
              "        const docLinkHtml = 'Like what you see? Visit the ' +\n",
              "          '<a target=\"_blank\" href=https://colab.research.google.com/notebooks/data_table.ipynb>data table notebook</a>'\n",
              "          + ' to learn more about interactive tables.';\n",
              "        element.innerHTML = '';\n",
              "        dataTable['output_type'] = 'display_data';\n",
              "        await google.colab.output.renderOutput(dataTable, element);\n",
              "        const docLink = document.createElement('div');\n",
              "        docLink.innerHTML = docLinkHtml;\n",
              "        element.appendChild(docLink);\n",
              "      }\n",
              "    </script>\n",
              "  </div>\n",
              "\n",
              "\n",
              "    <div id=\"df-eaec65cf-dbbf-44e6-870a-26e3f20f2cc3\">\n",
              "      <button class=\"colab-df-quickchart\" onclick=\"quickchart('df-eaec65cf-dbbf-44e6-870a-26e3f20f2cc3')\"\n",
              "                title=\"Suggest charts\"\n",
              "                style=\"display:none;\">\n",
              "\n",
              "<svg xmlns=\"http://www.w3.org/2000/svg\" height=\"24px\"viewBox=\"0 0 24 24\"\n",
              "     width=\"24px\">\n",
              "    <g>\n",
              "        <path d=\"M19 3H5c-1.1 0-2 .9-2 2v14c0 1.1.9 2 2 2h14c1.1 0 2-.9 2-2V5c0-1.1-.9-2-2-2zM9 17H7v-7h2v7zm4 0h-2V7h2v10zm4 0h-2v-4h2v4z\"/>\n",
              "    </g>\n",
              "</svg>\n",
              "      </button>\n",
              "\n",
              "<style>\n",
              "  .colab-df-quickchart {\n",
              "      --bg-color: #E8F0FE;\n",
              "      --fill-color: #1967D2;\n",
              "      --hover-bg-color: #E2EBFA;\n",
              "      --hover-fill-color: #174EA6;\n",
              "      --disabled-fill-color: #AAA;\n",
              "      --disabled-bg-color: #DDD;\n",
              "  }\n",
              "\n",
              "  [theme=dark] .colab-df-quickchart {\n",
              "      --bg-color: #3B4455;\n",
              "      --fill-color: #D2E3FC;\n",
              "      --hover-bg-color: #434B5C;\n",
              "      --hover-fill-color: #FFFFFF;\n",
              "      --disabled-bg-color: #3B4455;\n",
              "      --disabled-fill-color: #666;\n",
              "  }\n",
              "\n",
              "  .colab-df-quickchart {\n",
              "    background-color: var(--bg-color);\n",
              "    border: none;\n",
              "    border-radius: 50%;\n",
              "    cursor: pointer;\n",
              "    display: none;\n",
              "    fill: var(--fill-color);\n",
              "    height: 32px;\n",
              "    padding: 0;\n",
              "    width: 32px;\n",
              "  }\n",
              "\n",
              "  .colab-df-quickchart:hover {\n",
              "    background-color: var(--hover-bg-color);\n",
              "    box-shadow: 0 1px 2px rgba(60, 64, 67, 0.3), 0 1px 3px 1px rgba(60, 64, 67, 0.15);\n",
              "    fill: var(--button-hover-fill-color);\n",
              "  }\n",
              "\n",
              "  .colab-df-quickchart-complete:disabled,\n",
              "  .colab-df-quickchart-complete:disabled:hover {\n",
              "    background-color: var(--disabled-bg-color);\n",
              "    fill: var(--disabled-fill-color);\n",
              "    box-shadow: none;\n",
              "  }\n",
              "\n",
              "  .colab-df-spinner {\n",
              "    border: 2px solid var(--fill-color);\n",
              "    border-color: transparent;\n",
              "    border-bottom-color: var(--fill-color);\n",
              "    animation:\n",
              "      spin 1s steps(1) infinite;\n",
              "  }\n",
              "\n",
              "  @keyframes spin {\n",
              "    0% {\n",
              "      border-color: transparent;\n",
              "      border-bottom-color: var(--fill-color);\n",
              "      border-left-color: var(--fill-color);\n",
              "    }\n",
              "    20% {\n",
              "      border-color: transparent;\n",
              "      border-left-color: var(--fill-color);\n",
              "      border-top-color: var(--fill-color);\n",
              "    }\n",
              "    30% {\n",
              "      border-color: transparent;\n",
              "      border-left-color: var(--fill-color);\n",
              "      border-top-color: var(--fill-color);\n",
              "      border-right-color: var(--fill-color);\n",
              "    }\n",
              "    40% {\n",
              "      border-color: transparent;\n",
              "      border-right-color: var(--fill-color);\n",
              "      border-top-color: var(--fill-color);\n",
              "    }\n",
              "    60% {\n",
              "      border-color: transparent;\n",
              "      border-right-color: var(--fill-color);\n",
              "    }\n",
              "    80% {\n",
              "      border-color: transparent;\n",
              "      border-right-color: var(--fill-color);\n",
              "      border-bottom-color: var(--fill-color);\n",
              "    }\n",
              "    90% {\n",
              "      border-color: transparent;\n",
              "      border-bottom-color: var(--fill-color);\n",
              "    }\n",
              "  }\n",
              "</style>\n",
              "\n",
              "      <script>\n",
              "        async function quickchart(key) {\n",
              "          const quickchartButtonEl =\n",
              "            document.querySelector('#' + key + ' button');\n",
              "          quickchartButtonEl.disabled = true;  // To prevent multiple clicks.\n",
              "          quickchartButtonEl.classList.add('colab-df-spinner');\n",
              "          try {\n",
              "            const charts = await google.colab.kernel.invokeFunction(\n",
              "                'suggestCharts', [key], {});\n",
              "          } catch (error) {\n",
              "            console.error('Error during call to suggestCharts:', error);\n",
              "          }\n",
              "          quickchartButtonEl.classList.remove('colab-df-spinner');\n",
              "          quickchartButtonEl.classList.add('colab-df-quickchart-complete');\n",
              "        }\n",
              "        (() => {\n",
              "          let quickchartButtonEl =\n",
              "            document.querySelector('#df-eaec65cf-dbbf-44e6-870a-26e3f20f2cc3 button');\n",
              "          quickchartButtonEl.style.display =\n",
              "            google.colab.kernel.accessAllowed ? 'block' : 'none';\n",
              "        })();\n",
              "      </script>\n",
              "    </div>\n",
              "\n",
              "    </div>\n",
              "  </div>\n"
            ],
            "text/plain": [
              "     Id  MSSubClass  LotFrontage   LotArea  OverallQual  OverallCond  \\\n",
              "0  1461        -0.6     0.554678  0.497125            5            6   \n",
              "1  1462        -0.6     0.610234  1.144378            6            6   \n",
              "2  1463         0.2     0.221345  1.037440            5            5   \n",
              "3  1464         0.2     0.443567  0.094824            6            6   \n",
              "4  1465         1.4    -1.500877 -1.122109            8            5   \n",
              "\n",
              "   YearBuilt  YearRemodAdd  MasVnrArea  ExterQual  ...  LandSlope_Gtl  \\\n",
              "0       1961          1961    0.000000          3  ...            1.0   \n",
              "1       1958          1958    0.635294          3  ...            1.0   \n",
              "2       1997          1998    0.000000          3  ...            1.0   \n",
              "3       1998          1998    0.117647          3  ...            1.0   \n",
              "4       1992          1992    0.000000          4  ...            1.0   \n",
              "\n",
              "   LandSlope_Mod  LandSlope_Sev  Functional_Maj1  Functional_Maj2  \\\n",
              "0            0.0            0.0              0.0              0.0   \n",
              "1            0.0            0.0              0.0              0.0   \n",
              "2            0.0            0.0              0.0              0.0   \n",
              "3            0.0            0.0              0.0              0.0   \n",
              "4            0.0            0.0              0.0              0.0   \n",
              "\n",
              "   Functional_Min1  Functional_Min2  Functional_Mod  Functional_Sev  \\\n",
              "0              0.0              0.0             0.0             0.0   \n",
              "1              0.0              0.0             0.0             0.0   \n",
              "2              0.0              0.0             0.0             0.0   \n",
              "3              0.0              0.0             0.0             0.0   \n",
              "4              0.0              0.0             0.0             0.0   \n",
              "\n",
              "   Functional_Typ  \n",
              "0             1.0  \n",
              "1             1.0  \n",
              "2             1.0  \n",
              "3             1.0  \n",
              "4             1.0  \n",
              "\n",
              "[5 rows x 230 columns]"
            ]
          },
          "execution_count": 35,
          "metadata": {},
          "output_type": "execute_result"
        }
      ],
      "source": [
        "df_sub.head()"
      ]
    },
    {
      "cell_type": "code",
      "execution_count": 36,
      "metadata": {
        "colab": {
          "base_uri": "https://localhost:8080/"
        },
        "id": "17WJOyaCLnE-",
        "outputId": "037b757c-0144-4522-ef50-e1f8cb723d5a"
      },
      "outputs": [
        {
          "name": "stdout",
          "output_type": "stream",
          "text": [
            "Object type columns in df_train: Index([], dtype='object')\n"
          ]
        }
      ],
      "source": [
        "object_cols = df_train.select_dtypes(include='object').columns\n",
        "print(\"Object type columns in df_train:\", object_cols)"
      ]
    },
    {
      "cell_type": "code",
      "execution_count": 37,
      "metadata": {
        "id": "r5oDW-kMGbZI"
      },
      "outputs": [],
      "source": [
        "df_sub.fillna(0, inplace=True)"
      ]
    },
    {
      "cell_type": "markdown",
      "metadata": {
        "id": "q8qXeM_eyWa0"
      },
      "source": [
        "# ================================\n",
        "# Base Model Class Template\n",
        "# ================================"
      ]
    },
    {
      "cell_type": "code",
      "execution_count": 53,
      "metadata": {
        "id": "iJu2TlzBLc8q"
      },
      "outputs": [],
      "source": [
        "class BaseModelRunner:\n",
        "    def __init__(self, model, param_grid, model_name):\n",
        "        self.model = model\n",
        "        self.param_grid = param_grid\n",
        "        self.model_name = model_name\n",
        "        self.best_model = None\n",
        "\n",
        "    def train(self, X, y):\n",
        "        cv = KFold(n_splits=5, shuffle=True, random_state=42)\n",
        "        grid = GridSearchCV(self.model, self.param_grid, cv=cv,\n",
        "                            scoring='neg_root_mean_squared_error', n_jobs=-1)\n",
        "        grid.fit(X, y)\n",
        "        self.best_model = grid.best_estimator_\n",
        "        print(f\"✅ {self.model_name} Best Parameters:\", grid.best_params_)\n",
        "\n",
        "    def evaluate(self, X_test, y_test):\n",
        "        y_pred = self.best_model.predict(X_test)\n",
        "        rmse = np.sqrt(mean_squared_error(y_test, y_pred))\n",
        "        r2 = r2_score(y_test, y_pred)\n",
        "        mae = mean_absolute_error(y_test, y_pred)\n",
        "        print(f\"\\n📌 {self.model_name} Evaluation:\")\n",
        "        print(f\"RMSE: {rmse:.2f} | R²: {r2:.4f} | MAE: {mae:.2f}\")\n",
        "        return y_pred, rmse, r2, mae\n",
        "\n",
        "    def predict_submission(self, X_sub, df_sub, filename):\n",
        "        preds = self.best_model.predict(X_sub)\n",
        "        submission = df_sub[['Id']].copy()\n",
        "        submission['SalePrice'] = preds\n",
        "        submission.to_csv(filename, index=False)\n",
        "        print(f\"📁 Submission saved: {filename}\")"
      ]
    },
    {
      "cell_type": "markdown",
      "metadata": {
        "id": "QS9me08r-dL5"
      },
      "source": [
        "# ================================\n",
        "# Model Configurations\n",
        "# ================================"
      ]
    },
    {
      "cell_type": "markdown",
      "metadata": {
        "id": "5vHxdo8Q-gwV"
      },
      "source": [
        "## Data Prep"
      ]
    },
    {
      "cell_type": "code",
      "execution_count": 51,
      "metadata": {
        "id": "JiH1AyKf-a5Y"
      },
      "outputs": [],
      "source": [
        "# Prepare data\n",
        "X_train = df_train.drop(columns=['Id', 'SalePrice']).values\n",
        "y_train = df_train['SalePrice'].values\n",
        "X_test = df_test.drop(columns=['Id', 'SalePrice']).values\n",
        "y_test = df_test['SalePrice'].values\n",
        "X_sub = df_sub.drop(columns=['Id']).values"
      ]
    },
    {
      "cell_type": "markdown",
      "metadata": {
        "id": "yJXIlj4q-m4l"
      },
      "source": [
        "# Decision Tree"
      ]
    },
    {
      "cell_type": "code",
      "execution_count": null,
      "metadata": {
        "id": "1jnhnotk-nen"
      },
      "outputs": [],
      "source": []
    },
    {
      "cell_type": "code",
      "execution_count": 54,
      "metadata": {
        "colab": {
          "base_uri": "https://localhost:8080/"
        },
        "id": "f7c878c8",
        "outputId": "0099308a-5f4e-4fdf-b174-9b360b46e4f0"
      },
      "outputs": [
        {
          "name": "stdout",
          "output_type": "stream",
          "text": [
            "✅ Decision Tree Best Parameters: {'max_depth': 5, 'min_samples_leaf': 2, 'min_samples_split': 2}\n",
            "\n",
            "📌 Decision Tree Evaluation:\n",
            "RMSE: 40780.62 | R²: 0.7427 | MAE: 26939.73\n",
            "📁 Submission saved: decision_tree_submission.csv\n"
          ]
        }
      ],
      "source": [
        "# Decision Tree\n",
        "tree_params = {\n",
        "    'max_depth': [3, 5, 10],\n",
        "    'min_samples_split': [2, 5],\n",
        "    'min_samples_leaf': [1, 2]\n",
        "}\n",
        "tree_model = BaseModelRunner(DecisionTreeRegressor(random_state=42), tree_params, \"Decision Tree\")\n",
        "tree_model.train(X_train, y_train)\n",
        "y_pred_tree, rmse_tree, r2_tree, mae_tree = tree_model.evaluate(X_test, y_test)\n",
        "tree_model.predict_submission(X_sub, df_sub, \"decision_tree_submission.csv\")"
      ]
    },
    {
      "cell_type": "markdown",
      "metadata": {
        "id": "SRkIFJPy_BdL"
      },
      "source": [
        "# XGBoost Base"
      ]
    },
    {
      "cell_type": "code",
      "execution_count": 55,
      "metadata": {
        "colab": {
          "base_uri": "https://localhost:8080/"
        },
        "id": "ge1y1dsd-9EI",
        "outputId": "3504dcef-3cc1-4a36-d71b-9e90a9f69a3c"
      },
      "outputs": [
        {
          "name": "stdout",
          "output_type": "stream",
          "text": [
            "✅ XGBoost Base Best Parameters: {'learning_rate': 0.1, 'max_depth': 3, 'n_estimators': 200, 'subsample': 0.8}\n",
            "\n",
            "📌 XGBoost Base Evaluation:\n",
            "RMSE: 25422.12 | R²: 0.9000 | MAE: 16081.61\n",
            "📁 Submission saved: xgboost_submission.csv\n"
          ]
        }
      ],
      "source": [
        "# XGBoost Base\n",
        "xgb_base_params = {\n",
        "    'n_estimators': [100, 200],\n",
        "    'max_depth': [3, 5],\n",
        "    'learning_rate': [0.01, 0.1],\n",
        "    'subsample': [0.8, 1.0]\n",
        "}\n",
        "xgb_base_model = BaseModelRunner(XGBRegressor(objective='reg:squarederror', random_state=42),\n",
        "                                 xgb_base_params, \"XGBoost Base\")\n",
        "xgb_base_model.train(X_train, y_train)\n",
        "y_pred_xgb, rmse_xgb, r2_xgb, mae_xgb = xgb_base_model.evaluate(X_test, y_test)\n",
        "xgb_base_model.predict_submission(X_sub, df_sub, \"xgboost_submission.csv\")"
      ]
    },
    {
      "cell_type": "markdown",
      "metadata": {
        "id": "hzoUOW5W_J_8"
      },
      "source": [
        "# XGBoost with Regularization"
      ]
    },
    {
      "cell_type": "code",
      "execution_count": 57,
      "metadata": {
        "colab": {
          "base_uri": "https://localhost:8080/"
        },
        "id": "9T3oUlon_Cn2",
        "outputId": "b24b6962-e37c-4b52-dd1f-a55c6a503628"
      },
      "outputs": [
        {
          "name": "stdout",
          "output_type": "stream",
          "text": [
            "✅ XGBoost + Regularization Best Parameters: {'learning_rate': 0.1, 'max_depth': 5, 'n_estimators': 100, 'reg_alpha': 0, 'reg_lambda': 5.0, 'subsample': 0.8}\n",
            "\n",
            "📌 XGBoost + Regularization Evaluation:\n",
            "RMSE: 29966.73 | R²: 0.8611 | MAE: 17574.41\n",
            "📁 Submission saved: xgboost_regularized_submission.csv\n"
          ]
        }
      ],
      "source": [
        "# XGBoost with Regularization\n",
        "xgb_reg_params = {\n",
        "    'n_estimators': [100],\n",
        "    'max_depth': [3, 5],\n",
        "    'learning_rate': [0.1],\n",
        "    'subsample': [0.8, 1.0],\n",
        "    'reg_alpha': [0, 0.1],\n",
        "    'reg_lambda': [1.0, 5.0]\n",
        "}\n",
        "xgb_reg_model = BaseModelRunner(XGBRegressor(objective='reg:squarederror', random_state=42),\n",
        "                                xgb_reg_params, \"XGBoost + Regularization\")\n",
        "xgb_reg_model.train(X_train, y_train)\n",
        "y_pred_xgb_reg, rmse_xgb_reg, r2_xgb_reg, mae_xgb_reg = xgb_reg_model.evaluate(X_test, y_test)\n",
        "xgb_reg_model.predict_submission(X_sub, df_sub, \"xgboost_regularized_submission.csv\")\n"
      ]
    },
    {
      "cell_type": "markdown",
      "metadata": {
        "id": "V21D2gPQ_Qbm"
      },
      "source": [
        "# XGBoost Full Data (Train + Test Combined)"
      ]
    },
    {
      "cell_type": "code",
      "execution_count": 58,
      "metadata": {
        "colab": {
          "base_uri": "https://localhost:8080/"
        },
        "id": "pLSr73WF_IP8",
        "outputId": "6f812310-0385-452a-a156-c1df11e1551c"
      },
      "outputs": [
        {
          "name": "stdout",
          "output_type": "stream",
          "text": [
            "✅ XGBoost (Full Data) Best Parameters: {'learning_rate': 0.1, 'max_depth': 3, 'n_estimators': 200, 'subsample': 0.8}\n",
            "📁 Submission saved: xgboost_full_training_submission.csv\n"
          ]
        }
      ],
      "source": [
        "# XGBoost Full Data (Train + Test Combined)\n",
        "df_full = pd.concat([df_train, df_test], axis=0).reset_index(drop=True)\n",
        "X_full = df_full.drop(columns=['Id', 'SalePrice']).values\n",
        "y_full = df_full['SalePrice'].values\n",
        "\n",
        "xgb_full_model = BaseModelRunner(XGBRegressor(objective='reg:squarederror', random_state=42),\n",
        "                                 xgb_base_params, \"XGBoost (Full Data)\")\n",
        "xgb_full_model.train(X_full, y_full)\n",
        "# No evaluation on test set — full data used\n",
        "xgb_full_model.predict_submission(X_sub, df_sub, \"xgboost_full_training_submission.csv\")\n"
      ]
    },
    {
      "cell_type": "markdown",
      "metadata": {
        "id": "qG-Zlt-v_TY3"
      },
      "source": [
        "# ================================\n",
        "# 🔍 Plotting Accuracy Comparison\n",
        "# ================================"
      ]
    },
    {
      "cell_type": "markdown",
      "metadata": {
        "id": "ILWSLTgy_Ykw"
      },
      "source": [
        "# Metrics Summary"
      ]
    },
    {
      "cell_type": "code",
      "execution_count": 59,
      "metadata": {
        "id": "_d-ID3KE_TyJ"
      },
      "outputs": [],
      "source": [
        "# Metrics Summary\n",
        "models = [\"Decision Tree\", \"XGBoost\", \"XGBoost + Reg\", \"XGBoost (Full)\"]\n",
        "rmses = [rmse_tree, rmse_xgb, rmse_xgb_reg, np.nan]  # No test eval for full model\n",
        "r2s = [r2_tree, r2_xgb, r2_xgb_reg, np.nan]\n",
        "maes = [mae_tree, mae_xgb, mae_xgb_reg, np.nan]"
      ]
    },
    {
      "cell_type": "code",
      "execution_count": 60,
      "metadata": {
        "id": "j77trT0w_ZcR"
      },
      "outputs": [],
      "source": [
        "# Create bar plots\n",
        "x = np.arange(len(models))\n",
        "width = 0.25"
      ]
    },
    {
      "cell_type": "code",
      "execution_count": 61,
      "metadata": {
        "colab": {
          "base_uri": "https://localhost:8080/",
          "height": 572
        },
        "id": "dKYQKyVQ_cm5",
        "outputId": "e125ec59-3c9e-4eb7-92a3-32190ae5f383"
      },
      "outputs": [
        {
          "data": {
            "image/png": "[encoded data removed]",
            "text/plain": [
              "<Figure size 1200x600 with 1 Axes>"
            ]
          },
          "metadata": {},
          "output_type": "display_data"
        }
      ],
      "source": [
        "plt.figure(figsize=(12, 6))\n",
        "plt.bar(x - width, rmses, width, label='RMSE')\n",
        "plt.bar(x, maes, width, label='MAE')\n",
        "plt.bar(x + width, r2s, width, label='R² Score')\n",
        "plt.xticks(x, models)\n",
        "plt.ylabel(\"Metric Value\")\n",
        "plt.title(\"Model Evaluation Metrics Comparison\")\n",
        "plt.legend()\n",
        "plt.grid(True)\n",
        "plt.tight_layout()\n",
        "plt.show()"
      ]
    },
    {
      "cell_type": "markdown",
      "metadata": {
        "id": "OQG_625V_4qF"
      },
      "source": [
        "# Save Model"
      ]
    },
    {
      "cell_type": "code",
      "execution_count": 62,
      "metadata": {
        "colab": {
          "base_uri": "https://localhost:8080/"
        },
        "id": "s_ToiaCt_8Kh",
        "outputId": "f8aa6c06-a59f-4c94-d73d-744b31c06cb6"
      },
      "outputs": [
        {
          "name": "stdout",
          "output_type": "stream",
          "text": [
            "✅ All models saved as .pkl files.\n"
          ]
        }
      ],
      "source": [
        "import pickle\n",
        "\n",
        "# Save Decision Tree model\n",
        "with open('decision_tree_model.pkl', 'wb') as f:\n",
        "    pickle.dump(tree_model.best_model, f)\n",
        "\n",
        "# Save XGBoost Base model\n",
        "with open('xgboost_base_model.pkl', 'wb') as f:\n",
        "    pickle.dump(xgb_base_model.best_model, f)\n",
        "\n",
        "# Save XGBoost with Regularization model\n",
        "with open('xgboost_regularized_model.pkl', 'wb') as f:\n",
        "    pickle.dump(xgb_reg_model.best_model, f)\n",
        "\n",
        "# Save XGBoost Full Data model\n",
        "with open('xgboost_full_data_model.pkl', 'wb') as f:\n",
        "    pickle.dump(xgb_full_model.best_model, f)\n",
        "\n",
        "print(\"✅ All models saved as .pkl files.\")\n"
      ]
    },
    {
      "cell_type": "code",
      "execution_count": null,
      "metadata": {
        "id": "cUmqd95Y_8ip"
      },
      "outputs": [],
      "source": []
    }
  ],
  "metadata": {
    "accelerator": "GPU",
    "colab": {
      "gpuType": "T4",
      "provenance": []
    },
    "kernelspec": {
      "display_name": "Python 3",
      "name": "python3"
    },
    "language_info": {
      "name": "python"
    }
  },
  "nbformat": 4,
  "nbformat_minor": 0
}
