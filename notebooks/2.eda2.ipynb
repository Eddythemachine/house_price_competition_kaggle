{
 "cells": [
  {
   "cell_type": "code",
   "execution_count": null,
   "id": "cbb4a0d8",
   "metadata": {},
   "outputs": [],
   "source": [
    "# To Hndle The Data\n",
    "import pandas as pd\n",
    "import numpy as np\n",
    "\n",
    "# To Visualize the data\n",
    "import matplotlib.pyplot as plt\n",
    "from matplotlib.cm import get_cmap\n",
    "import seaborn as sns\n",
    "%matplotlib inline\n",
    "\n",
    "# To Hnadle Warnings during the execution of the code\n",
    "import warnings\n",
    "warnings.filterwarnings(\"ignore\")\n"
   ]
  },
  {
   "cell_type": "markdown",
   "id": "afe54812",
   "metadata": {},
   "source": [
    "# Importing the dataset for analysis\n"
   ]
  },
  {
   "cell_type": "code",
   "execution_count": null,
   "id": "8adcf0a2",
   "metadata": {},
   "outputs": [],
   "source": [
    "data =pd.read_csv(\"../data/raw/train.csv\")\n",
    "data.head(5)"
   ]
  },
  {
   "cell_type": "markdown",
   "id": "a6b6d755",
   "metadata": {},
   "source": [
    "# Exploratory Data Analysis"
   ]
  },
  {
   "cell_type": "code",
   "execution_count": null,
   "id": "58933f86",
   "metadata": {},
   "outputs": [],
   "source": [
    "# check the shape of the dataset i.e number of rows and columns\n",
    "data.shape"
   ]
  },
  {
   "cell_type": "code",
   "execution_count": 62,
   "id": "79fdd4ff",
   "metadata": {},
   "outputs": [
    {
     "name": "stdout",
     "output_type": "stream",
     "text": [
      "<class 'pandas.core.frame.DataFrame'>\n",
      "RangeIndex: 1460 entries, 0 to 1459\n",
      "Data columns (total 75 columns):\n",
      " #   Column         Non-Null Count  Dtype  \n",
      "---  ------         --------------  -----  \n",
      " 0   MSSubClass     1460 non-null   int64  \n",
      " 1   MSZoning       1460 non-null   object \n",
      " 2   LotFrontage    1201 non-null   float64\n",
      " 3   LotArea        1460 non-null   int64  \n",
      " 4   Street         1460 non-null   object \n",
      " 5   LotShape       1460 non-null   object \n",
      " 6   LandContour    1460 non-null   object \n",
      " 7   Utilities      1460 non-null   object \n",
      " 8   LotConfig      1460 non-null   object \n",
      " 9   LandSlope      1460 non-null   object \n",
      " 10  Neighborhood   1460 non-null   object \n",
      " 11  Condition1     1460 non-null   object \n",
      " 12  Condition2     1460 non-null   object \n",
      " 13  BldgType       1460 non-null   object \n",
      " 14  HouseStyle     1460 non-null   object \n",
      " 15  OverallQual    1460 non-null   int64  \n",
      " 16  OverallCond    1460 non-null   int64  \n",
      " 17  YearBuilt      1460 non-null   int64  \n",
      " 18  YearRemodAdd   1460 non-null   int64  \n",
      " 19  RoofStyle      1460 non-null   object \n",
      " 20  RoofMatl       1460 non-null   object \n",
      " 21  Exterior1st    1460 non-null   object \n",
      " 22  Exterior2nd    1460 non-null   object \n",
      " 23  MasVnrType     588 non-null    object \n",
      " 24  MasVnrArea     1452 non-null   float64\n",
      " 25  ExterQual      1460 non-null   object \n",
      " 26  ExterCond      1460 non-null   object \n",
      " 27  Foundation     1460 non-null   object \n",
      " 28  BsmtQual       1423 non-null   object \n",
      " 29  BsmtCond       1423 non-null   object \n",
      " 30  BsmtExposure   1422 non-null   object \n",
      " 31  BsmtFinType1   1423 non-null   object \n",
      " 32  BsmtFinSF1     1460 non-null   int64  \n",
      " 33  BsmtFinType2   1422 non-null   object \n",
      " 34  BsmtFinSF2     1460 non-null   int64  \n",
      " 35  BsmtUnfSF      1460 non-null   int64  \n",
      " 36  TotalBsmtSF    1460 non-null   int64  \n",
      " 37  Heating        1460 non-null   object \n",
      " 38  HeatingQC      1460 non-null   object \n",
      " 39  CentralAir     1460 non-null   object \n",
      " 40  Electrical     1459 non-null   object \n",
      " 41  1stFlrSF       1460 non-null   int64  \n",
      " 42  2ndFlrSF       1460 non-null   int64  \n",
      " 43  LowQualFinSF   1460 non-null   int64  \n",
      " 44  GrLivArea      1460 non-null   int64  \n",
      " 45  BsmtFullBath   1460 non-null   int64  \n",
      " 46  BsmtHalfBath   1460 non-null   int64  \n",
      " 47  FullBath       1460 non-null   int64  \n",
      " 48  HalfBath       1460 non-null   int64  \n",
      " 49  BedroomAbvGr   1460 non-null   int64  \n",
      " 50  KitchenAbvGr   1460 non-null   int64  \n",
      " 51  KitchenQual    1460 non-null   object \n",
      " 52  TotRmsAbvGrd   1460 non-null   int64  \n",
      " 53  Functional     1460 non-null   object \n",
      " 54  Fireplaces     1460 non-null   int64  \n",
      " 55  GarageType     1379 non-null   object \n",
      " 56  GarageYrBlt    1379 non-null   float64\n",
      " 57  GarageFinish   1379 non-null   object \n",
      " 58  GarageCars     1460 non-null   int64  \n",
      " 59  GarageArea     1460 non-null   int64  \n",
      " 60  GarageQual     1379 non-null   object \n",
      " 61  GarageCond     1379 non-null   object \n",
      " 62  PavedDrive     1460 non-null   object \n",
      " 63  WoodDeckSF     1460 non-null   int64  \n",
      " 64  OpenPorchSF    1460 non-null   int64  \n",
      " 65  EnclosedPorch  1460 non-null   int64  \n",
      " 66  3SsnPorch      1460 non-null   int64  \n",
      " 67  ScreenPorch    1460 non-null   int64  \n",
      " 68  PoolArea       1460 non-null   int64  \n",
      " 69  MiscVal        1460 non-null   int64  \n",
      " 70  MoSold         1460 non-null   int64  \n",
      " 71  YrSold         1460 non-null   int64  \n",
      " 72  SaleType       1460 non-null   object \n",
      " 73  SaleCondition  1460 non-null   object \n",
      " 74  SalePrice      1460 non-null   int64  \n",
      "dtypes: float64(3), int64(34), object(38)\n",
      "memory usage: 855.6+ KB\n"
     ]
    }
   ],
   "source": [
    "# exploratory data analysis, giving an overview of the dataset i.e the number of rows, columns, data types and non-null values\n",
    "data.info()"
   ]
  },
  {
   "cell_type": "code",
   "execution_count": null,
   "id": "ca813c1a",
   "metadata": {},
   "outputs": [],
   "source": [
    "# listing the columns in the dataset\n",
    "data.columns"
   ]
  },
  {
   "cell_type": "code",
   "execution_count": null,
   "id": "85fb0284",
   "metadata": {},
   "outputs": [],
   "source": [
    "data.drop(columns=[\"Id\"], inplace=True)"
   ]
  },
  {
   "cell_type": "code",
   "execution_count": null,
   "id": "c49b56b6",
   "metadata": {},
   "outputs": [],
   "source": [
    "\n",
    "\n",
    "# calculate the percentage of missing value per column in the dataset\n",
    "missing_percentage = data.isnull().mean() * 100\n",
    "\n",
    "# Optional: Display only columns with missing values\n",
    "missing_percentage = missing_percentage[missing_percentage > 0]\n",
    "\n",
    "# Print the result\n",
    "print(missing_percentage.sort_values(ascending=False))\n"
   ]
  },
  {
   "cell_type": "code",
   "execution_count": null,
   "id": "f1178126",
   "metadata": {},
   "outputs": [],
   "source": [
    "# visualizing the percentage of missing values per column\n",
    "plt.figure(figsize=(10, 6))\n",
    "sns.barplot(x=missing_percentage.values, y=missing_percentage.index, palette=\"viridis\")\n",
    "plt.xlabel(\"Percentage of Missing Values\")\n",
    "plt.ylabel(\"Columns\")\n",
    "plt.title(\"Missing Value Percentage per Column\")\n",
    "plt.tight_layout()\n",
    "plt.show()"
   ]
  },
  {
   "cell_type": "markdown",
   "id": "f7f0677c",
   "metadata": {},
   "source": [
    "## observation from the above information\n",
    "* - The dataset contains 81 columns and 1460 rows\n",
    "* - There are 35 integers, 3 floats and 43 objects in the dataset\n",
    "* - Columns ike MiscFeature,Fence,PoolQC,FireplaceQU, Alley, MasVnrType, LotFrontage, have high NAN percentage\n",
    "* - Important numerical features like LotFrontage, GarageYrBlt, and MasVnrArea also contain some missing values.\n",
    "* - Id is just a unique identifier and not useful for analysis.\n",
    "* - Some columns have incorrect data types.\n",
    "* - OverallQual, OverallCond are ordinal variables, but currently treated as integers.\n",
    "* - MSSubClass represents building category, so it should be categorical, not integer"
   ]
  },
  {
   "cell_type": "markdown",
   "id": "fb2d3571",
   "metadata": {},
   "source": [
    "<h2>Analysing and cleaning  each columns of the dataset</h2>"
   ]
  },
  {
   "cell_type": "code",
   "execution_count": null,
   "id": "37dd66a0",
   "metadata": {},
   "outputs": [],
   "source": [
    "data.describe().T"
   ]
  },
  {
   "cell_type": "code",
   "execution_count": null,
   "id": "9b9620bb",
   "metadata": {},
   "outputs": [],
   "source": [
    "skewness = data.select_dtypes(include=\"number\").skew().sort_values(ascending=False)"
   ]
  },
  {
   "cell_type": "code",
   "execution_count": null,
   "id": "5f685809",
   "metadata": {},
   "outputs": [],
   "source": [
    "# visualizing the skewness of numerical features\n",
    "\n",
    "plt.figure(figsize=(10, 6))\n",
    "sns.barplot(x=skewness.values, y=skewness.index, palette='coolwarm')\n",
    "plt.title(\"Skewness of Numerical Features\")\n",
    "plt.xlabel(\"Skewness\")\n",
    "plt.ylabel(\"Features\")\n",
    "plt.axvline(x=0, color='black', linestyle='--')  # vertical line at 0 for reference\n",
    "plt.tight_layout()\n",
    "plt.show()"
   ]
  },
  {
   "cell_type": "code",
   "execution_count": null,
   "id": "246429cc",
   "metadata": {},
   "outputs": [],
   "source": [
    "# Separate columns\n",
    "# Categorical columns: object and category types\n",
    "categorical_cols = data.select_dtypes(include=['object', 'category']).columns.tolist()\n",
    "\n",
    "# Numerical columns: int and float types\n",
    "numerical_cols = data.select_dtypes(include=['int64', 'float64']).columns.tolist()\n",
    "\n",
    "\n",
    "# Subset data\n",
    "data_categorical = data[categorical_cols]\n",
    "data_numerical = data[numerical_cols]\n"
   ]
  },
  {
   "cell_type": "code",
   "execution_count": 64,
   "id": "313a637d",
   "metadata": {},
   "outputs": [
    {
     "name": "stdout",
     "output_type": "stream",
     "text": [
      "Missing value in categorical columns: \n",
      " Alley           1369\n",
      "MasVnrType       872\n",
      "BsmtQual          37\n",
      "BsmtCond          37\n",
      "BsmtExposure      38\n",
      "BsmtFinType1      37\n",
      "BsmtFinType2      38\n",
      "Electrical         1\n",
      "FireplaceQu      690\n",
      "GarageType        81\n",
      "GarageFinish      81\n",
      "GarageQual        81\n",
      "GarageCond        81\n",
      "PoolQC          1453\n",
      "Fence           1179\n",
      "MiscFeature     1406\n",
      "dtype: int64\n"
     ]
    }
   ],
   "source": [
    "missing_categorical = data_categorical.isnull().sum()\n",
    "\n",
    "\n",
    "print(\"Missing value in categorical columns: \\n\", missing_categorical[missing_categorical > 0])"
   ]
  },
  {
   "cell_type": "code",
   "execution_count": null,
   "id": "5fc9f351",
   "metadata": {},
   "outputs": [],
   "source": [
    "# percentage of missing values in categorical columns\n",
    "# Calculate total number of rows\n",
    "total_rows = len(data_categorical)\n",
    "\n",
    "# Compute percentage\n",
    "missing_categorical_percent = (missing_categorical / total_rows) * 100\n",
    "\n",
    "# Display result\n",
    "print(\"Missing percentage in categorical columns:\\n\")\n",
    "print(missing_categorical_percent.sort_values(ascending=False).round(2))"
   ]
  },
  {
   "cell_type": "code",
   "execution_count": null,
   "id": "c02e92fe",
   "metadata": {},
   "outputs": [],
   "source": [
    "# Get a colormap and normalize values\n",
    "cmap = get_cmap(\"plasma\")  # You can change this to 'viridis', 'magma', etc.\n",
    "norm = plt.Normalize(missing_categorical_percent.min(), missing_categorical_percent.max())\n",
    "colors = [cmap(norm(val)) for val in missing_categorical_percent.values]\n",
    "\n",
    "# Plot\n",
    "plt.figure(figsize=(10, 6))\n",
    "sns.barplot(\n",
    "    x=missing_categorical_percent.values,\n",
    "    y=missing_categorical_percent.index,\n",
    "    palette=colors  # Apply gradient colors\n",
    ")\n",
    "\n",
    "plt.xlabel(\"Percentage of Missing Values\")\n",
    "plt.ylabel(\"Categorical Columns\")\n",
    "plt.title(\"Missing Value Percentage in Categorical Columns\")\n",
    "plt.xlim(0, 100)\n",
    "plt.tight_layout()\n",
    "plt.show()"
   ]
  },
  {
   "cell_type": "code",
   "execution_count": null,
   "id": "ce8981c6",
   "metadata": {},
   "outputs": [],
   "source": [
    "categorical_cols_to_drop = [\n",
    "    \"MiscFeature\", \"Fence\", \"PoolQC\", \"FireplaceQu\", \"Alley\"\n",
    "]\n",
    "\n",
    "data.drop(columns=categorical_cols_to_drop, inplace=True)"
   ]
  },
  {
   "cell_type": "code",
   "execution_count": 63,
   "id": "c643fe1c",
   "metadata": {},
   "outputs": [
    {
     "data": {
      "text/plain": [
       "Index(['MSSubClass', 'MSZoning', 'LotFrontage', 'LotArea', 'Street',\n",
       "       'LotShape', 'LandContour', 'Utilities', 'LotConfig', 'LandSlope',\n",
       "       'Neighborhood', 'Condition1', 'Condition2', 'BldgType', 'HouseStyle',\n",
       "       'OverallQual', 'OverallCond', 'YearBuilt', 'YearRemodAdd', 'RoofStyle',\n",
       "       'RoofMatl', 'Exterior1st', 'Exterior2nd', 'MasVnrType', 'MasVnrArea',\n",
       "       'ExterQual', 'ExterCond', 'Foundation', 'BsmtQual', 'BsmtCond',\n",
       "       'BsmtExposure', 'BsmtFinType1', 'BsmtFinSF1', 'BsmtFinType2',\n",
       "       'BsmtFinSF2', 'BsmtUnfSF', 'TotalBsmtSF', 'Heating', 'HeatingQC',\n",
       "       'CentralAir', 'Electrical', '1stFlrSF', '2ndFlrSF', 'LowQualFinSF',\n",
       "       'GrLivArea', 'BsmtFullBath', 'BsmtHalfBath', 'FullBath', 'HalfBath',\n",
       "       'BedroomAbvGr', 'KitchenAbvGr', 'KitchenQual', 'TotRmsAbvGrd',\n",
       "       'Functional', 'Fireplaces', 'GarageType', 'GarageYrBlt', 'GarageFinish',\n",
       "       'GarageCars', 'GarageArea', 'GarageQual', 'GarageCond', 'PavedDrive',\n",
       "       'WoodDeckSF', 'OpenPorchSF', 'EnclosedPorch', '3SsnPorch',\n",
       "       'ScreenPorch', 'PoolArea', 'MiscVal', 'MoSold', 'YrSold', 'SaleType',\n",
       "       'SaleCondition', 'SalePrice'],\n",
       "      dtype='object')"
      ]
     },
     "execution_count": 63,
     "metadata": {},
     "output_type": "execute_result"
    }
   ],
   "source": [
    "data.columns"
   ]
  },
  {
   "cell_type": "code",
   "execution_count": null,
   "id": "1d9eadb1",
   "metadata": {},
   "outputs": [],
   "source": [
    "def update_categorical_data(data):\n",
    "    return data.select_dtypes(include=[\"object\", \"category\"]).copy()"
   ]
  },
  {
   "cell_type": "code",
   "execution_count": 61,
   "id": "885cb87b",
   "metadata": {},
   "outputs": [
    {
     "data": {
      "text/plain": [
       "Index(['MSZoning', 'Street', 'Alley', 'LotShape', 'LandContour', 'Utilities',\n",
       "       'LotConfig', 'LandSlope', 'Neighborhood', 'Condition1', 'Condition2',\n",
       "       'BldgType', 'HouseStyle', 'RoofStyle', 'RoofMatl', 'Exterior1st',\n",
       "       'Exterior2nd', 'MasVnrType', 'ExterQual', 'ExterCond', 'Foundation',\n",
       "       'BsmtQual', 'BsmtCond', 'BsmtExposure', 'BsmtFinType1', 'BsmtFinType2',\n",
       "       'Heating', 'HeatingQC', 'CentralAir', 'Electrical', 'KitchenQual',\n",
       "       'Functional', 'FireplaceQu', 'GarageType', 'GarageFinish', 'GarageQual',\n",
       "       'GarageCond', 'PavedDrive', 'PoolQC', 'Fence', 'MiscFeature',\n",
       "       'SaleType', 'SaleCondition'],\n",
       "      dtype='object')"
      ]
     },
     "execution_count": 61,
     "metadata": {},
     "output_type": "execute_result"
    }
   ],
   "source": [
    "data_categorical.columns"
   ]
  },
  {
   "cell_type": "code",
   "execution_count": 65,
   "id": "8d476c1f",
   "metadata": {},
   "outputs": [
    {
     "data": {
      "text/plain": [
       "872"
      ]
     },
     "execution_count": 65,
     "metadata": {},
     "output_type": "execute_result"
    }
   ],
   "source": [
    "data_categorical[\"MasVnrType\"].isnull().sum()"
   ]
  },
  {
   "cell_type": "code",
   "execution_count": 67,
   "id": "1145f690",
   "metadata": {},
   "outputs": [
    {
     "data": {
      "text/plain": [
       "array(['BrkFace', nan, 'Stone', 'BrkCmn'], dtype=object)"
      ]
     },
     "execution_count": 67,
     "metadata": {},
     "output_type": "execute_result"
    }
   ],
   "source": [
    "data_categorical[\"MasVnrType\"].unique()"
   ]
  },
  {
   "cell_type": "code",
   "execution_count": 68,
   "id": "030f688e",
   "metadata": {},
   "outputs": [],
   "source": [
    "# Note: the MasVnrType column have a high number of missing value and the amount of unique categories is low, we replace the missing values with None\n",
    "# Note: replace the msising values with 'None', simply means the house has no mansory veneer\n",
    "data[\"MasVnrType\"] = data[\"MasVnrType\"].fillna(\"None\")"
   ]
  },
  {
   "cell_type": "code",
   "execution_count": 70,
   "id": "057b3773",
   "metadata": {},
   "outputs": [
    {
     "data": {
      "text/plain": [
       "1"
      ]
     },
     "execution_count": 70,
     "metadata": {},
     "output_type": "execute_result"
    }
   ],
   "source": [
    "data_categorical[\"Electrical\"].isnull().sum(\n",
    ")"
   ]
  },
  {
   "cell_type": "code",
   "execution_count": 71,
   "id": "6069cfe5",
   "metadata": {},
   "outputs": [
    {
     "data": {
      "text/plain": [
       "array(['SBrkr', 'FuseF', 'FuseA', 'FuseP', 'Mix', nan], dtype=object)"
      ]
     },
     "execution_count": 71,
     "metadata": {},
     "output_type": "execute_result"
    }
   ],
   "source": [
    "data_categorical[\"Electrical\"].unique()"
   ]
  },
  {
   "cell_type": "code",
   "execution_count": 72,
   "id": "c8d6532d",
   "metadata": {},
   "outputs": [],
   "source": [
    "data[\"Electrical\"].fillna(data[\"Electrical\"].mode()[0], inplace=True)"
   ]
  },
  {
   "cell_type": "code",
   "execution_count": 74,
   "id": "d25add7e",
   "metadata": {},
   "outputs": [],
   "source": [
    "garage_cols = [\n",
    "    \"GarageType\", \"GarageFinish\", \"GarageQual\", \"GarageCond\"\n",
    "]\n",
    "\n",
    "for col in garage_cols:\n",
    "    data[col].fillna(\"None\", inplace = True)"
   ]
  },
  {
   "cell_type": "code",
   "execution_count": 76,
   "id": "49b55510",
   "metadata": {},
   "outputs": [],
   "source": [
    "Bsmt_cols = [\n",
    "    \"BsmtQual\", \"BsmtCond\", \"BsmtExposure\", \"BsmtFinType1\", \"BsmtFinType2\"\n",
    "]\n",
    "\n",
    "for col2 in Bsmt_cols:\n",
    "    data[col2].fillna(\"None\", inplace= True)"
   ]
  },
  {
   "cell_type": "code",
   "execution_count": null,
   "id": "bcb320af",
   "metadata": {},
   "outputs": [],
   "source": [
    "# the function i created erlier contain only objects\n",
    "# all the updated upject that are in the main data are copied to the data category\n",
    "data_categorical = update_categorical_data(data)"
   ]
  },
  {
   "cell_type": "code",
   "execution_count": 78,
   "id": "88f34028",
   "metadata": {},
   "outputs": [
    {
     "data": {
      "text/plain": [
       "Index(['MSZoning', 'Street', 'LotShape', 'LandContour', 'Utilities',\n",
       "       'LotConfig', 'LandSlope', 'Neighborhood', 'Condition1', 'Condition2',\n",
       "       'BldgType', 'HouseStyle', 'RoofStyle', 'RoofMatl', 'Exterior1st',\n",
       "       'Exterior2nd', 'MasVnrType', 'ExterQual', 'ExterCond', 'Foundation',\n",
       "       'BsmtQual', 'BsmtCond', 'BsmtExposure', 'BsmtFinType1', 'BsmtFinType2',\n",
       "       'Heating', 'HeatingQC', 'CentralAir', 'Electrical', 'KitchenQual',\n",
       "       'Functional', 'GarageType', 'GarageFinish', 'GarageQual', 'GarageCond',\n",
       "       'PavedDrive', 'SaleType', 'SaleCondition'],\n",
       "      dtype='object')"
      ]
     },
     "execution_count": 78,
     "metadata": {},
     "output_type": "execute_result"
    }
   ],
   "source": [
    "data_categorical.columns"
   ]
  },
  {
   "cell_type": "code",
   "execution_count": 79,
   "id": "693a77dc",
   "metadata": {},
   "outputs": [
    {
     "data": {
      "text/plain": [
       "MSZoning         0\n",
       "Street           0\n",
       "LotShape         0\n",
       "LandContour      0\n",
       "Utilities        0\n",
       "LotConfig        0\n",
       "LandSlope        0\n",
       "Neighborhood     0\n",
       "Condition1       0\n",
       "Condition2       0\n",
       "BldgType         0\n",
       "HouseStyle       0\n",
       "RoofStyle        0\n",
       "RoofMatl         0\n",
       "Exterior1st      0\n",
       "Exterior2nd      0\n",
       "MasVnrType       0\n",
       "ExterQual        0\n",
       "ExterCond        0\n",
       "Foundation       0\n",
       "BsmtQual         0\n",
       "BsmtCond         0\n",
       "BsmtExposure     0\n",
       "BsmtFinType1     0\n",
       "BsmtFinType2     0\n",
       "Heating          0\n",
       "HeatingQC        0\n",
       "CentralAir       0\n",
       "Electrical       0\n",
       "KitchenQual      0\n",
       "Functional       0\n",
       "GarageType       0\n",
       "GarageFinish     0\n",
       "GarageQual       0\n",
       "GarageCond       0\n",
       "PavedDrive       0\n",
       "SaleType         0\n",
       "SaleCondition    0\n",
       "dtype: int64"
      ]
     },
     "execution_count": 79,
     "metadata": {},
     "output_type": "execute_result"
    }
   ],
   "source": [
    "data_categorical.isnull().sum()"
   ]
  },
  {
   "cell_type": "code",
   "execution_count": null,
   "id": "1cee35c0",
   "metadata": {},
   "outputs": [
    {
     "data": {
      "text/plain": [
       "MSZoning         0\n",
       "Street           0\n",
       "LotShape         0\n",
       "LandContour      0\n",
       "Utilities        0\n",
       "LotConfig        0\n",
       "LandSlope        0\n",
       "Neighborhood     0\n",
       "Condition1       0\n",
       "Condition2       0\n",
       "BldgType         0\n",
       "HouseStyle       0\n",
       "RoofStyle        0\n",
       "RoofMatl         0\n",
       "Exterior1st      0\n",
       "Exterior2nd      0\n",
       "MasVnrType       0\n",
       "ExterQual        0\n",
       "ExterCond        0\n",
       "Foundation       0\n",
       "BsmtQual         0\n",
       "BsmtCond         0\n",
       "BsmtExposure     0\n",
       "BsmtFinType1     0\n",
       "BsmtFinType2     0\n",
       "Heating          0\n",
       "HeatingQC        0\n",
       "CentralAir       0\n",
       "Electrical       0\n",
       "KitchenQual      0\n",
       "Functional       0\n",
       "GarageType       0\n",
       "GarageFinish     0\n",
       "GarageQual       0\n",
       "GarageCond       0\n",
       "PavedDrive       0\n",
       "SaleType         0\n",
       "SaleCondition    0\n",
       "dtype: int64"
      ]
     },
     "execution_count": 82,
     "metadata": {},
     "output_type": "execute_result"
    }
   ],
   "source": [
    "# this shows that the missing values in the categorical columns have been handled\n",
    "# and there are no more missing values in the categorical columns\n",
    "# and this also shows that the data_categorical dataframe is updated into the main data\n",
    "data.select_dtypes(include=[\"object\", \"category\"]).isnull().sum()"
   ]
  },
  {
   "cell_type": "code",
   "execution_count": null,
   "id": "123b54e2",
   "metadata": {},
   "outputs": [],
   "source": [
    "# visualization of the null value of the categorical columns using heatmap "
   ]
  },
  {
   "cell_type": "code",
   "execution_count": 85,
   "id": "c10ab26b",
   "metadata": {},
   "outputs": [
    {
     "data": {
      "image/png": "[encoded data removed]",
      "text/plain": [
       "<Figure size 1000x400 with 1 Axes>"
      ]
     },
     "metadata": {},
     "output_type": "display_data"
    }
   ],
   "source": [
    "# Visualize missing values in categorical columns using a heatmap\n",
    "plt.figure(figsize=(10, 4))\n",
    "sns.heatmap(data_categorical.isnull(), cbar=False, cmap=\"viridis\", yticklabels=False)\n",
    "plt.title(\"Missing Values in Categorical Columns (Heatmap)\")\n",
    "plt.xlabel(\"Categorical Columns\")\n",
    "plt.show()"
   ]
  },
  {
   "cell_type": "code",
   "execution_count": null,
   "id": "79f769dd",
   "metadata": {},
   "outputs": [],
   "source": []
  }
 ],
 "metadata": {
  "kernelspec": {
   "display_name": "base",
   "language": "python",
   "name": "python3"
  },
  "language_info": {
   "codemirror_mode": {
    "name": "ipython",
    "version": 3
   },
   "file_extension": ".py",
   "mimetype": "text/x-python",
   "name": "python",
   "nbconvert_exporter": "python",
   "pygments_lexer": "ipython3",
   "version": "3.12.7"
  }
 },
 "nbformat": 4,
 "nbformat_minor": 5
}
