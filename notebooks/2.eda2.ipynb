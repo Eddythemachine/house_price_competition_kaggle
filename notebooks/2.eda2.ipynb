{
 "cells": [
  {
   "cell_type": "code",
   "execution_count": null,
   "id": "cbb4a0d8",
   "metadata": {},
   "outputs": [],
   "source": [
    "# To Hndle The Data\n",
    "import pandas as pd\n",
    "import numpy as np\n",
    "\n",
    "# To Visualize the data\n",
    "import matplotlib.pyplot as plt\n",
    "from matplotlib.cm import get_cmap\n",
    "import seaborn as sns\n",
    "%matplotlib inline\n",
    "\n",
    "# To Hnadle Warnings during the execution of the code\n",
    "import warnings\n",
    "warnings.filterwarnings(\"ignore\")\n"
   ]
  },
  {
   "cell_type": "markdown",
   "id": "afe54812",
   "metadata": {},
   "source": [
    "# Importing the dataset for analysis\n"
   ]
  },
  {
   "cell_type": "code",
   "execution_count": null,
   "id": "8adcf0a2",
   "metadata": {},
   "outputs": [],
   "source": [
    "data =pd.read_csv(\"../data/raw/train.csv\")\n",
    "data.head(5)"
   ]
  },
  {
   "cell_type": "markdown",
   "id": "a6b6d755",
   "metadata": {},
   "source": [
    "# Exploratory Data Analysis"
   ]
  },
  {
   "cell_type": "code",
   "execution_count": null,
   "id": "58933f86",
   "metadata": {},
   "outputs": [],
   "source": [
    "# check the shape of the dataset i.e number of rows and columns\n",
    "data.shape"
   ]
  },
  {
   "cell_type": "code",
   "execution_count": null,
   "id": "79fdd4ff",
   "metadata": {},
   "outputs": [],
   "source": [
    "# exploratory data analysis, giving an overview of the dataset i.e the number of rows, columns, data types and non-null values\n",
    "data.info()"
   ]
  },
  {
   "cell_type": "code",
   "execution_count": null,
   "id": "ca813c1a",
   "metadata": {},
   "outputs": [],
   "source": [
    "# listing the columns in the dataset\n",
    "data.columns"
   ]
  },
  {
   "cell_type": "code",
   "execution_count": null,
   "id": "85fb0284",
   "metadata": {},
   "outputs": [],
   "source": [
    "data.drop(columns=[\"Id\"], inplace=True)"
   ]
  },
  {
   "cell_type": "code",
   "execution_count": null,
   "id": "c49b56b6",
   "metadata": {},
   "outputs": [],
   "source": [
    "\n",
    "\n",
    "# calculate the percentage of missing value per column in the dataset\n",
    "missing_percentage = data.isnull().mean() * 100\n",
    "\n",
    "# Optional: Display only columns with missing values\n",
    "missing_percentage = missing_percentage[missing_percentage > 0]\n",
    "\n",
    "# Print the result\n",
    "print(missing_percentage.sort_values(ascending=False))\n"
   ]
  },
  {
   "cell_type": "code",
   "execution_count": null,
   "id": "f1178126",
   "metadata": {},
   "outputs": [],
   "source": [
    "# visualizing the percentage of missing values per column\n",
    "plt.figure(figsize=(10, 6))\n",
    "sns.barplot(x=missing_percentage.values, y=missing_percentage.index, palette=\"viridis\")\n",
    "plt.xlabel(\"Percentage of Missing Values\")\n",
    "plt.ylabel(\"Columns\")\n",
    "plt.title(\"Missing Value Percentage per Column\")\n",
    "plt.tight_layout()\n",
    "plt.show()"
   ]
  },
  {
   "cell_type": "markdown",
   "id": "f7f0677c",
   "metadata": {},
   "source": [
    "## observation from the above information\n",
    "* - The dataset contains 81 columns and 1460 rows\n",
    "* - There are 35 integers, 3 floats and 43 objects in the dataset\n",
    "* - Columns ike MiscFeature,Fence,PoolQC,FireplaceQU, Alley, MasVnrType, LotFrontage, have high NAN percentage\n",
    "* - Important numerical features like LotFrontage, GarageYrBlt, and MasVnrArea also contain some missing values.\n",
    "* - Id is just a unique identifier and not useful for analysis.\n",
    "* - Some columns have incorrect data types.\n",
    "* - OverallQual, OverallCond are ordinal variables, but currently treated as integers.\n",
    "* - MSSubClass represents building category, so it should be categorical, not integer"
   ]
  },
  {
   "cell_type": "markdown",
   "id": "fb2d3571",
   "metadata": {},
   "source": [
    "<h2>Analysing and cleaning  each columns of the dataset</h2>"
   ]
  },
  {
   "cell_type": "code",
   "execution_count": null,
   "id": "37dd66a0",
   "metadata": {},
   "outputs": [],
   "source": [
    "data.describe().T"
   ]
  },
  {
   "cell_type": "code",
   "execution_count": null,
   "id": "9b9620bb",
   "metadata": {},
   "outputs": [],
   "source": [
    "skewness = data.select_dtypes(include=\"number\").skew().sort_values(ascending=False)"
   ]
  },
  {
   "cell_type": "code",
   "execution_count": null,
   "id": "5f685809",
   "metadata": {},
   "outputs": [],
   "source": [
    "# visualizing the skewness of numerical features\n",
    "\n",
    "plt.figure(figsize=(10, 6))\n",
    "sns.barplot(x=skewness.values, y=skewness.index, palette='coolwarm')\n",
    "plt.title(\"Skewness of Numerical Features\")\n",
    "plt.xlabel(\"Skewness\")\n",
    "plt.ylabel(\"Features\")\n",
    "plt.axvline(x=0, color='black', linestyle='--')  # vertical line at 0 for reference\n",
    "plt.tight_layout()\n",
    "plt.show()"
   ]
  },
  {
   "cell_type": "markdown",
   "id": "3c656e5f",
   "metadata": {},
   "source": [
    "### Categorical Analysis"
   ]
  },
  {
   "cell_type": "code",
   "execution_count": null,
   "id": "246429cc",
   "metadata": {},
   "outputs": [],
   "source": [
    "# Separate columns\n",
    "# Categorical columns: object and category types\n",
    "categorical_cols = data.select_dtypes(include=['object', 'category']).columns.tolist()\n",
    "\n",
    "# Numerical columns: int and float types\n",
    "numerical_cols = data.select_dtypes(include=['int64', 'float64']).columns.tolist()\n",
    "\n",
    "\n",
    "# Subset data\n",
    "data_categorical = data[categorical_cols]\n",
    "data_numerical = data[numerical_cols]\n"
   ]
  },
  {
   "cell_type": "code",
   "execution_count": null,
   "id": "313a637d",
   "metadata": {},
   "outputs": [],
   "source": [
    "missing_categorical = data_categorical.isnull().sum()\n",
    "\n",
    "\n",
    "print(\"Missing value in categorical columns: \\n\", missing_categorical[missing_categorical > 0])"
   ]
  },
  {
   "cell_type": "code",
   "execution_count": null,
   "id": "5fc9f351",
   "metadata": {},
   "outputs": [],
   "source": [
    "# percentage of missing values in categorical columns\n",
    "# Calculate total number of rows\n",
    "total_rows = len(data_categorical)\n",
    "\n",
    "# Compute percentage\n",
    "missing_categorical_percent = (missing_categorical / total_rows) * 100\n",
    "\n",
    "# Display result\n",
    "print(\"Missing percentage in categorical columns:\\n\")\n",
    "print(missing_categorical_percent.sort_values(ascending=False).round(2))"
   ]
  },
  {
   "cell_type": "code",
   "execution_count": null,
   "id": "c02e92fe",
   "metadata": {},
   "outputs": [],
   "source": [
    "# Get a colormap and normalize values\n",
    "cmap = get_cmap(\"plasma\")  # You can change this to 'viridis', 'magma', etc.\n",
    "norm = plt.Normalize(missing_categorical_percent.min(), missing_categorical_percent.max())\n",
    "colors = [cmap(norm(val)) for val in missing_categorical_percent.values]\n",
    "\n",
    "# Plot\n",
    "plt.figure(figsize=(10, 6))\n",
    "sns.barplot(\n",
    "    x=missing_categorical_percent.values,\n",
    "    y=missing_categorical_percent.index,\n",
    "    palette=colors  # Apply gradient colors\n",
    ")\n",
    "\n",
    "plt.xlabel(\"Percentage of Missing Values\")\n",
    "plt.ylabel(\"Categorical Columns\")\n",
    "plt.title(\"Missing Value Percentage in Categorical Columns\")\n",
    "plt.xlim(0, 100)\n",
    "plt.tight_layout()\n",
    "plt.show()"
   ]
  },
  {
   "cell_type": "code",
   "execution_count": null,
   "id": "ce8981c6",
   "metadata": {},
   "outputs": [],
   "source": [
    "categorical_cols_to_drop = [\n",
    "    \"MiscFeature\", \"Fence\", \"PoolQC\", \"FireplaceQu\", \"Alley\"\n",
    "]\n",
    "\n",
    "data.drop(columns=categorical_cols_to_drop, inplace=True)"
   ]
  },
  {
   "cell_type": "code",
   "execution_count": null,
   "id": "c643fe1c",
   "metadata": {},
   "outputs": [],
   "source": [
    "data.columns"
   ]
  },
  {
   "cell_type": "code",
   "execution_count": null,
   "id": "1d9eadb1",
   "metadata": {},
   "outputs": [],
   "source": [
    "def update_categorical_data(data):\n",
    "    return data.select_dtypes(include=[\"object\", \"category\"]).copy()"
   ]
  },
  {
   "cell_type": "code",
   "execution_count": null,
   "id": "885cb87b",
   "metadata": {},
   "outputs": [],
   "source": [
    "data_categorical.columns"
   ]
  },
  {
   "cell_type": "code",
   "execution_count": null,
   "id": "8d476c1f",
   "metadata": {},
   "outputs": [],
   "source": [
    "data_categorical[\"MasVnrType\"].isnull().sum()"
   ]
  },
  {
   "cell_type": "code",
   "execution_count": null,
   "id": "1145f690",
   "metadata": {},
   "outputs": [],
   "source": [
    "data_categorical[\"MasVnrType\"].unique()"
   ]
  },
  {
   "cell_type": "code",
   "execution_count": null,
   "id": "030f688e",
   "metadata": {},
   "outputs": [],
   "source": [
    "# Note: the MasVnrType column have a high number of missing value and the amount of unique categories is low, we replace the missing values with None\n",
    "# Note: replace the msising values with 'None', simply means the house has no mansory veneer\n",
    "data[\"MasVnrType\"] = data[\"MasVnrType\"].fillna(\"None\")"
   ]
  },
  {
   "cell_type": "code",
   "execution_count": null,
   "id": "057b3773",
   "metadata": {},
   "outputs": [],
   "source": [
    "data_categorical[\"Electrical\"].isnull().sum(\n",
    ")"
   ]
  },
  {
   "cell_type": "code",
   "execution_count": null,
   "id": "6069cfe5",
   "metadata": {},
   "outputs": [],
   "source": [
    "data_categorical[\"Electrical\"].unique()"
   ]
  },
  {
   "cell_type": "code",
   "execution_count": null,
   "id": "c8d6532d",
   "metadata": {},
   "outputs": [],
   "source": [
    "data[\"Electrical\"].fillna(data[\"Electrical\"].mode()[0], inplace=True)"
   ]
  },
  {
   "cell_type": "code",
   "execution_count": null,
   "id": "d25add7e",
   "metadata": {},
   "outputs": [],
   "source": [
    "garage_cols = [\n",
    "    \"GarageType\", \"GarageFinish\", \"GarageQual\", \"GarageCond\"\n",
    "]\n",
    "\n",
    "for col in garage_cols:\n",
    "    data[col].fillna(\"None\", inplace = True)"
   ]
  },
  {
   "cell_type": "code",
   "execution_count": null,
   "id": "49b55510",
   "metadata": {},
   "outputs": [],
   "source": [
    "Bsmt_cols = [\n",
    "    \"BsmtQual\", \"BsmtCond\", \"BsmtExposure\", \"BsmtFinType1\", \"BsmtFinType2\"\n",
    "]\n",
    "\n",
    "for col2 in Bsmt_cols:\n",
    "    data[col2].fillna(\"None\", inplace= True)"
   ]
  },
  {
   "cell_type": "code",
   "execution_count": null,
   "id": "bcb320af",
   "metadata": {},
   "outputs": [],
   "source": [
    "# the function i created erlier contain only objects\n",
    "# all the updated upject that are in the main data are copied to the data category\n",
    "data_categorical = update_categorical_data(data)"
   ]
  },
  {
   "cell_type": "code",
   "execution_count": null,
   "id": "88f34028",
   "metadata": {},
   "outputs": [],
   "source": [
    "data_categorical.columns"
   ]
  },
  {
   "cell_type": "code",
   "execution_count": null,
   "id": "693a77dc",
   "metadata": {},
   "outputs": [],
   "source": [
    "data_categorical.isnull().sum()"
   ]
  },
  {
   "cell_type": "code",
   "execution_count": null,
   "id": "1cee35c0",
   "metadata": {},
   "outputs": [],
   "source": [
    "# this shows that the missing values in the categorical columns have been handled\n",
    "# and there are no more missing values in the categorical columns\n",
    "# and this also shows that the data_categorical dataframe is updated into the main data\n",
    "data.select_dtypes(include=[\"object\", \"category\"]).isnull().sum()"
   ]
  },
  {
   "cell_type": "code",
   "execution_count": null,
   "id": "123b54e2",
   "metadata": {},
   "outputs": [],
   "source": [
    "# visualization of the null value of the categorical columns using heatmap "
   ]
  },
  {
   "cell_type": "code",
   "execution_count": null,
   "id": "c10ab26b",
   "metadata": {},
   "outputs": [],
   "source": [
    "# Visualize missing values in categorical columns using a heatmap\n",
    "plt.figure(figsize=(10, 4))\n",
    "sns.heatmap(data_categorical.isnull(), cbar=False, cmap=\"viridis\", yticklabels=False)\n",
    "plt.title(\"Missing Values in Categorical Columns (Heatmap)\")\n",
    "plt.xlabel(\"Categorical Columns\")\n",
    "plt.show()"
   ]
  },
  {
   "cell_type": "markdown",
   "id": "55eb74f9",
   "metadata": {},
   "source": [
    "### numerical column"
   ]
  },
  {
   "cell_type": "code",
   "execution_count": null,
   "id": "79f769dd",
   "metadata": {},
   "outputs": [],
   "source": [
    "data_numerical.isnull().sum()"
   ]
  },
  {
   "cell_type": "code",
   "execution_count": null,
   "id": "a739f3c1",
   "metadata": {},
   "outputs": [],
   "source": [
    "data_numerical.info()"
   ]
  },
  {
   "cell_type": "code",
   "execution_count": 40,
   "id": "26172501",
   "metadata": {},
   "outputs": [
    {
     "name": "stdout",
     "output_type": "stream",
     "text": [
      "Columns with missing values:\n",
      "['LotFrontage', 'MasVnrArea', 'GarageYrBlt']\n"
     ]
    }
   ],
   "source": [
    "# List columns with at least one null value\n",
    "columns_with_null = data_numerical.columns[data_numerical.isnull().any()].tolist()\n",
    "\n",
    "# Print the result\n",
    "print(\"Columns with missing values:\")\n",
    "print(columns_with_null)\n"
   ]
  },
  {
   "cell_type": "code",
   "execution_count": null,
   "id": "55be2435",
   "metadata": {},
   "outputs": [],
   "source": [
    "# Get columns with missing values\n",
    "columns_with_null = data_numerical.columns[data_numerical.isnull().any()]\n",
    "\n",
    "# Set up unique colors (generate a color palette)\n",
    "colors = sns.color_palette(\"husl\", len(columns_with_null))  # You can change \"husl\" to other palettes\n",
    "\n",
    "# Plot each boxplot in a loop\n",
    "for col, color in zip(columns_with_null, colors):\n",
    "    plt.figure(figsize=(4, 4))\n",
    "    sns.boxplot(y=data_numerical[col], color=color)\n",
    "    plt.title(f\"Boxplot of {col} (with missing values)\")\n",
    "    plt.xlabel(col)\n",
    "    plt.tight_layout()\n",
    "    plt.show()\n"
   ]
  },
  {
   "cell_type": "code",
   "execution_count": null,
   "id": "75bcebd0",
   "metadata": {},
   "outputs": [],
   "source": [
    "for col in columns_with_null:\n",
    "    print(f\"Column {col}\")"
   ]
  },
  {
   "cell_type": "code",
   "execution_count": null,
   "id": "1abdb101",
   "metadata": {},
   "outputs": [],
   "source": []
  },
  {
   "cell_type": "markdown",
   "id": "ec767061",
   "metadata": {},
   "source": []
  },
  {
   "cell_type": "code",
   "execution_count": null,
   "id": "049746ae",
   "metadata": {},
   "outputs": [],
   "source": []
  }
 ],
 "metadata": {
  "kernelspec": {
   "display_name": "base",
   "language": "python",
   "name": "python3"
  },
  "language_info": {
   "codemirror_mode": {
    "name": "ipython",
    "version": 3
   },
   "file_extension": ".py",
   "mimetype": "text/x-python",
   "name": "python",
   "nbconvert_exporter": "python",
   "pygments_lexer": "ipython3",
   "version": "3.12.7"
  }
 },
 "nbformat": 4,
 "nbformat_minor": 5
}
